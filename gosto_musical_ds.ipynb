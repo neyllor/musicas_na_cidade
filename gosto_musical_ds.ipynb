{
 "cells": [
  {
   "cell_type": "markdown",
   "metadata": {},
   "source": [
    "Olá **Neyllor**!\n",
    "\n",
    "Meu nome é Ana Paula Araújo. Fico feliz em rever seu projeto hoje.\n",
    "\n",
    "Quando vejo um erro pela primeira vez, vou apenas apontá-lo. Vou deixar você encontrá-lo e consertá-lo. Também ao longo do texto farei algumas observações sobre melhorias no código e também farei comentários sobre suas percepções sobre o assunto. Estou tentando prepará-lo para trabalhar como **Cientista de Dados**. Então, em um trabalho real, seu líder de equipe fará o mesmo. Mas se você ainda não conseguir identificar ou corrigir, eu vou te dar uma dica mais precisa na próxima iteração e também alguns exemplos práticos. Estarei aberta a feedbacks e discussões sobre o tema.\n",
    "\n",
    "Você encontrará meus comentários abaixo - **por favor, não os mova, modifique ou exclua**.\n",
    "\n",
    "Você pode encontrar meus comentários em caixas verdes, amarelas ou vermelhas como esta:\n",
    "\n",
    "<div class=\"alert alert-block alert-success\">\n",
    "<b> Comentário do revisor: </b> <a class=\"tocSkip\"></a>\n",
    "\n",
    "Sucesso. Tudo foi feito corretamente.\n",
    "</div>\n",
    "\n",
    "<div class=\"alert alert-block alert-warning\">\n",
    "<b>Comentário do revisor: </b> <a class=\"tocSkip\"></a>\n",
    "\n",
    "Observações. Algumas recomendações.\n",
    "</div>\n",
    "\n",
    "<div class=\"alert alert-block alert-danger\">\n",
    "\n",
    "<b>Comentário do revisor: </b> <a class=\"tocSkip\"></a>\n",
    "    \n",
    "Precisa de correções. O bloqueio requer algumas correções. O trabalho não pode ser aceito com os comentários em vermelho.\n",
    "</div>\n",
    "\n",
    "Você pode me responder usando isso:\n",
    "\n",
    "<div class=\"alert alert-block alert-info\">\n",
    "<b>Resposta do Aluno.</b> <a class=\"tocSkip\"></a>\n",
    "</div>"
   ]
  },
  {
   "cell_type": "markdown",
   "metadata": {},
   "source": [
    "<div class=\"alert alert-block alert-success\">\n",
    "<b> Comentário geral do revisor</b> <a class=\"tocSkip\"></a>\n",
    "\n",
    "Neyllor, obrigada por enviar seu projeto. Você fez um excelente trabalho!\n",
    "\n",
    "Embora haja espaço para melhorias, no geral, seu projeto é muito bom.\n",
    "\n",
    "A maioria das minhas observações foi em tom de sugestão para ajudá-lo em futuras aplicações, eles não significam que você fez algo errado, mas são coisas que quero destacar que podem ajudá-lo a desenvolver ainda mais suas habilidades. Gostei muito do seu código e gostaria de destacar o cuidado que você demonstrou na realização das análises e quando se trata de análise de dados esta é uma excelente qualidade. \n",
    "    \n",
    "Há poucas coisas que precisam ser corrigidas em seu projeto. Eles são principalmente problemas menores que são fáceis de corrigir. \n",
    "\n",
    "Destaco os seguintes pontos:\n",
    "\n",
    "<ul class=\"text-danger\"> \n",
    "     <li> O uso redundante do método print() </li> \n",
    "    <li> Sugestão do uso do método info(), sort_values e do parametro drop=True </li> \n",
    "    <li> Ajuste na tabela com resultados</li> \n",
    "</ul>\n",
    "\n",
    "\n",
    "Esses pontos destacados são mais elaborados ao decorrer de cada bloco. Cada problema com nosso código é uma chance para aprendermos algo novo.\n",
    "Boa sorte! :)"
   ]
  },
  {
   "cell_type": "markdown",
   "metadata": {},
   "source": [
    "<div class=\"alert alert-block alert-success\">\n",
    "<b> Comentário geral do revisor v.2</b> <a class=\"tocSkip\"></a>\n",
    "\n",
    "Neyllor, obrigada por enviar seu projeto. Fiquei muito feliz com as suas alterações, obrigada pelo tempo dedicado para faze-las. E agora o seu trabalho esta perfeito e você está pronto para a nova sprint! \n",
    "    \n",
    "Eu risquei os meus comentários anteriores nas partes que voce modificou. E meus novos comentário estao marcados da seguinte forma:\n",
    "\n",
    "\n",
    "<b> Comentário do revisor v.2: </b> \n",
    "\n",
    " Obrigada e Boa sorte ;)"
   ]
  },
  {
   "cell_type": "markdown",
   "metadata": {
    "id": "E0vqbgi9ay0H"
   },
   "source": [
    "# Yandex.Music"
   ]
  },
  {
   "cell_type": "markdown",
   "metadata": {
    "id": "fhq_eyov_Zcs"
   },
   "source": [
    "# Contents <a id='back'></a>\n",
    "\n",
    "* [Introdução](#intro)\n",
    "* [Etapa 1. Visão geral dos dados](#data_review)\n",
    "    * [Conclusões](#data_review_conclusions)\n",
    "* [Etapa 2. Pré-processamento de dados](#data_preprocessing)\n",
    "    * [2.1 Estilo do cabeçalho](#header_style)\n",
    "    * [2.2 Valores ausentes](#missing_values)\n",
    "    * [2.3 Duplicatas](#duplicates)\n",
    "    * [2.4 Conclusões](#data_preprocessing_conclusions)\n",
    "* [Etapa 3. Testando as hipóteses](#hypotheses)\n",
    "    * [3.1 Hipótese 1: comparando o comportamento dos usuários em duas cidades](#activity)\n",
    "    * [3.2 Hipótese 2: música no começo e no fim da semana](#week)\n",
    "    * [3.3 Hipótese 3: preferências em Springfield e Shelbyville](#genre)\n",
    "* [Conclusões](#end)"
   ]
  },
  {
   "cell_type": "markdown",
   "metadata": {
    "id": "VUC88oWjTJw2"
   },
   "source": [
    "## Introdução <a id='intro'></a>\n",
    "Sempre que fazemos uma pesquisa, precisamos formular uma hipótese que depois poderemos testar. Às vezes nós aceitamos essas hipóteses; outras vezes, nós as rejeitamos. Para fazer as escolhas certas, um negócio deve ser capaz de entender se está fazendo as suposições certas ou não.\n",
    "\n",
    "Neste projeto, você vai comparar as preferências musicais dos habitantes de Springfild e Shelbyville. Você estudará dados reais do Yandex.Music para testar a hipótese abaixo e comparar o comportamento do usuário para essas duas cidades.\n",
    "\n",
    "### Objetivo: \n",
    "Teste três hipóteses:\n",
    "1. A atividade dos usuários é diferente dependendo do dia da semana e da cidade. \n",
    "2. Durante as manhãs de segunda-feira, os moradores de Springfield e Shelbyville escutam diferentes gêneros. Isso também é verdadeiro para noites de sexta-feira. \n",
    "3. Os ouvintes de Springfield e Shelbyville têm diferentes preferências. Em Springfield, as pessoas preferem pop, enquanto Shelbyville tem mais fãs de rap.\n",
    "\n",
    "### Etapas \n",
    "Os dados sobre o comportamento do usuário é armazenado no arquivo `/datasets/music_project_en.csv`. Não há informação sobre a qualidade dos dados, então, você precisará examiná-los antes de testar a hipótese. \n",
    "\n",
    "Primeiro, você avaliará a qualidade dos dados e ver se seus problemas são significativos. Depois, durante o pré-processamento de dados, você tentará dar conta dos problemas mais críticos problemas.\n",
    " \n",
    "O seu projeto consistirá em três etapas:\n",
    " 1. Visão geral dos dados\n",
    " 2. Pré-processamento de dados\n",
    " 3. Testando as hipóteses\n",
    " \n",
    "[Voltar ao Índice](#back)"
   ]
  },
  {
   "cell_type": "markdown",
   "metadata": {},
   "source": [
    "<div class=\"alert alert-block alert-success\">\n",
    "<b> Comentário do revisor: </b> <a class=\"tocSkip\"></a>\n",
    "\n",
    "Excelente. É muito importante escrever uma introdução, um index para facilitar a leitura do codigo, contextualizar o problema e suas etapas e deixar os objetivos claros! \n",
    "</div>"
   ]
  },
  {
   "cell_type": "markdown",
   "metadata": {
    "id": "Ml1hmfXC_Zcs"
   },
   "source": [
    "## Etapa 1. Visão geral dos dados <a id='data_review'></a>\n",
    "\n",
    "Abra os dados em Yandex.Music e explore-os."
   ]
  },
  {
   "cell_type": "markdown",
   "metadata": {
    "id": "57eAOGIz_Zcs"
   },
   "source": [
    "Você precisará de `pandas`, então, importe-a."
   ]
  },
  {
   "cell_type": "code",
   "execution_count": 1,
   "metadata": {
    "id": "AXN7PHPN_Zcs"
   },
   "outputs": [],
   "source": [
    "# importando pandas\n",
    "import pandas as pd"
   ]
  },
  {
   "cell_type": "markdown",
   "metadata": {},
   "source": [
    "<div class=\"alert alert-block alert-success\">\n",
    "<b> Comentário do revisor: </b> <a class=\"tocSkip\"></a>\n",
    "\n",
    "É ótimo que você use a abreviação pd para Pandas, é uma abreviação comum para esta biblioteca para facilitar o trabalho. Como tambem deixar uma celular separada apenas para as importações das bibliotecas!\n",
    "    \n",
    "</div>"
   ]
  },
  {
   "cell_type": "markdown",
   "metadata": {
    "id": "SG23P8tt_Zcs"
   },
   "source": [
    "Leia o arquivo `music_project_en.csv` da pasta `/datasets/` e salve-o na variável `df`:"
   ]
  },
  {
   "cell_type": "code",
   "execution_count": 2,
   "metadata": {
    "id": "fFVu7vqh_Zct"
   },
   "outputs": [
    {
     "data": {
      "text/html": [
       "<div>\n",
       "<style scoped>\n",
       "    .dataframe tbody tr th:only-of-type {\n",
       "        vertical-align: middle;\n",
       "    }\n",
       "\n",
       "    .dataframe tbody tr th {\n",
       "        vertical-align: top;\n",
       "    }\n",
       "\n",
       "    .dataframe thead th {\n",
       "        text-align: right;\n",
       "    }\n",
       "</style>\n",
       "<table border=\"1\" class=\"dataframe\">\n",
       "  <thead>\n",
       "    <tr style=\"text-align: right;\">\n",
       "      <th></th>\n",
       "      <th>userID</th>\n",
       "      <th>Track</th>\n",
       "      <th>artist</th>\n",
       "      <th>genre</th>\n",
       "      <th>City</th>\n",
       "      <th>time</th>\n",
       "      <th>Day</th>\n",
       "    </tr>\n",
       "  </thead>\n",
       "  <tbody>\n",
       "    <tr>\n",
       "      <th>count</th>\n",
       "      <td>65079</td>\n",
       "      <td>63736</td>\n",
       "      <td>57512</td>\n",
       "      <td>63881</td>\n",
       "      <td>65079</td>\n",
       "      <td>65079</td>\n",
       "      <td>65079</td>\n",
       "    </tr>\n",
       "    <tr>\n",
       "      <th>unique</th>\n",
       "      <td>41748</td>\n",
       "      <td>39666</td>\n",
       "      <td>37806</td>\n",
       "      <td>268</td>\n",
       "      <td>2</td>\n",
       "      <td>20392</td>\n",
       "      <td>3</td>\n",
       "    </tr>\n",
       "    <tr>\n",
       "      <th>top</th>\n",
       "      <td>A8AE9169</td>\n",
       "      <td>Brand</td>\n",
       "      <td>Kartvelli</td>\n",
       "      <td>pop</td>\n",
       "      <td>Springfield</td>\n",
       "      <td>08:14:07</td>\n",
       "      <td>Friday</td>\n",
       "    </tr>\n",
       "    <tr>\n",
       "      <th>freq</th>\n",
       "      <td>76</td>\n",
       "      <td>136</td>\n",
       "      <td>136</td>\n",
       "      <td>8850</td>\n",
       "      <td>45360</td>\n",
       "      <td>14</td>\n",
       "      <td>23149</td>\n",
       "    </tr>\n",
       "  </tbody>\n",
       "</table>\n",
       "</div>"
      ],
      "text/plain": [
       "          userID  Track     artist  genre       City        time     Day\n",
       "count      65079  63736      57512  63881        65079     65079   65079\n",
       "unique     41748  39666      37806    268            2     20392       3\n",
       "top     A8AE9169  Brand  Kartvelli    pop  Springfield  08:14:07  Friday\n",
       "freq          76    136        136   8850        45360        14   23149"
      ]
     },
     "execution_count": 2,
     "metadata": {},
     "output_type": "execute_result"
    }
   ],
   "source": [
    "# lendo o arquivo e armazenando em df\n",
    "df = pd.read_csv('/datasets/music_project_en.csv')\n",
    "df.describe()"
   ]
  },
  {
   "cell_type": "markdown",
   "metadata": {},
   "source": [
    "<div class=\"alert alert-block alert-success\">\n",
    "<b> Comentário do revisor: </b> <a class=\"tocSkip\"></a>\n",
    "\n",
    "Correto! O metodo `pd.read_csv` foi usado corretamente. Como também, o caminho correto para o arquivo é especificado: a barra no início do caminho é muito importante, pois indica que você precisa procurar o arquivo na pasta raiz.\n",
    "</div>"
   ]
  },
  {
   "cell_type": "markdown",
   "metadata": {
    "id": "rDoOMd3uTqnZ"
   },
   "source": [
    "Exiba as primeiras 10 linhas da tabela:"
   ]
  },
  {
   "cell_type": "code",
   "execution_count": 3,
   "metadata": {
    "id": "oWTVX3gW_Zct"
   },
   "outputs": [
    {
     "name": "stdout",
     "output_type": "stream",
     "text": [
      "     userID                        Track            artist   genre  \\\n",
      "0  FFB692EC            Kamigata To Boots  The Mass Missile    rock   \n",
      "1  55204538  Delayed Because of Accident  Andreas Rönnberg    rock   \n",
      "2    20EC38            Funiculì funiculà       Mario Lanza     pop   \n",
      "3  A3DD03C9        Dragons in the Sunset        Fire + Ice    folk   \n",
      "4  E2DC1FAE                  Soul People        Space Echo   dance   \n",
      "5  842029A1                       Chains          Obladaet  rusrap   \n",
      "6  4CB90AA5                         True      Roman Messer   dance   \n",
      "7  F03E1C1F             Feeling This Way   Polina Griffith   dance   \n",
      "8  8FA1D3BE                     L’estate       Julia Dalia  ruspop   \n",
      "9  E772D5C0                    Pessimist               NaN   dance   \n",
      "\n",
      "        City        time        Day  \n",
      "0  Shelbyville  20:28:33  Wednesday  \n",
      "1  Springfield  14:07:09     Friday  \n",
      "2  Shelbyville  20:58:07  Wednesday  \n",
      "3  Shelbyville  08:37:09     Monday  \n",
      "4  Springfield  08:34:34     Monday  \n",
      "5  Shelbyville  13:09:41     Friday  \n",
      "6  Springfield  13:00:07  Wednesday  \n",
      "7  Springfield  20:47:49  Wednesday  \n",
      "8  Springfield  09:17:40     Friday  \n",
      "9  Shelbyville  21:20:49  Wednesday  \n"
     ]
    }
   ],
   "source": [
    "# obtenha as 10 primeiras 10 linhas da tabela df\n",
    "print(df.head(10))"
   ]
  },
  {
   "cell_type": "markdown",
   "metadata": {
    "id": "EO73Kwic_Zct"
   },
   "source": [
    "Obtendo as informações gerais sobre a tabela com um comando:"
   ]
  },
  {
   "cell_type": "code",
   "execution_count": 4,
   "metadata": {
    "id": "DSf2kIb-_Zct"
   },
   "outputs": [
    {
     "name": "stdout",
     "output_type": "stream",
     "text": [
      "<class 'pandas.core.frame.DataFrame'>\n",
      "RangeIndex: 65079 entries, 0 to 65078\n",
      "Data columns (total 7 columns):\n",
      " #   Column    Non-Null Count  Dtype \n",
      "---  ------    --------------  ----- \n",
      " 0     userID  65079 non-null  object\n",
      " 1   Track     63736 non-null  object\n",
      " 2   artist    57512 non-null  object\n",
      " 3   genre     63881 non-null  object\n",
      " 4     City    65079 non-null  object\n",
      " 5   time      65079 non-null  object\n",
      " 6   Day       65079 non-null  object\n",
      "dtypes: object(7)\n",
      "memory usage: 3.5+ MB\n"
     ]
    }
   ],
   "source": [
    "# obtendo informações gerais sobre os dados em df\n",
    "df.info()"
   ]
  },
  {
   "cell_type": "markdown",
   "metadata": {},
   "source": [
    "<div class=\"alert alert-block alert-danger\">\n",
    "<b> Comentário do revisor: </b> <a class=\"tocSkip\"></a>\n",
    "\n",
    "<s>Nesse celula seria interessante obter mais informações gerais sobre a tabela. Sugiro você usar o método `info()` que além das informações do tipo  vai trazer a quantidade de valores não nulos, entre outros\n",
    "</div>"
   ]
  },
  {
   "cell_type": "markdown",
   "metadata": {},
   "source": [
    "<div class=\"alert alert-block alert-success\">\n",
    "<b> Comentário do revisor v.2: </b> <a class=\"tocSkip\"></a>\n",
    "\n",
    "Obrigada pela correção!\n",
    "</div>"
   ]
  },
  {
   "cell_type": "markdown",
   "metadata": {
    "id": "TaQ2Iwbr_Zct"
   },
   "source": [
    "A tabela contém sete colunas. Elas armazenam o mesmo tipo de dado: `object`.\n",
    "\n",
    "De acordo com a documentação:\n",
    "- `'userID'` — identificação do usuário\n",
    "- `'Track'` — título da música\n",
    "- `'artist'` — nome do artista\n",
    "- `'genre'` — o gênero\n",
    "- `'City'` — cidade do usuário\n",
    "- `'time'` — tempo exato que a música foi tocada\n",
    "- `'Day'` — dia da semana\n",
    "\n",
    "Nós podemos ver três problemas com o estilo nos nomes das colunas:\n",
    "1. Alguns nomes estão com letra maiúscula, alguns com letra minúscula.\n",
    "2. Há espaços em alguns nomes.\n",
    "3. `Detecte o problema por si só e o descreva aqui`.\n",
    "\n",
    "A quantidade de valores das colunas é diferente. Isso significa que os dados contém valores ausentes.\n"
   ]
  },
  {
   "cell_type": "markdown",
   "metadata": {
    "id": "MCB6-dXG_Zct"
   },
   "source": [
    "### Conclusões <a id='data_review_conclusions'></a> \n",
    "\n",
    "Cada linha na tabela armazena dados sobre uma música que foi tocada. Algumas colunas descrevem a música por si só: seu título, artista e gênero. O restante contém informações sobre o usuário: a cidade de onde eles vêm, a quantidade de vezes que a música foi tocada. \n",
    "\n",
    "Está claro que os dados são suficientes para testar as hipóteses. Entretanto, há valores ausentes.\n",
    "\n",
    "Para seguir adiante, precisamos pré-processar os dados."
   ]
  },
  {
   "cell_type": "markdown",
   "metadata": {},
   "source": [
    "<div class=\"alert alert-block alert-success\">\n",
    "<b> Comentário do revisor: </b> <a class=\"tocSkip\"></a>\n",
    "Excelente, os problemas nos dados foram indicados de forma correta!\n",
    "</div>"
   ]
  },
  {
   "cell_type": "markdown",
   "metadata": {
    "id": "3eL__vcwViOi"
   },
   "source": [
    "[Voltar ao Índice](#back)"
   ]
  },
  {
   "cell_type": "markdown",
   "metadata": {
    "id": "SjYF6Ub9_Zct"
   },
   "source": [
    "## Etapa 2. Pré-processar dados <a id='data_preprocessing'></a>\n",
    "Corrija a formatação no cabeçalho da coluna e trabalhe com os valores ausentes. Depois, verifique se há duplicatas nos dados."
   ]
  },
  {
   "cell_type": "markdown",
   "metadata": {
    "id": "dIaKXr29_Zct"
   },
   "source": [
    "### Estilo do cabeçalho <a id='header_style'></a>\n",
    "Exiba o cabeçalho da coluna:"
   ]
  },
  {
   "cell_type": "code",
   "execution_count": 5,
   "metadata": {
    "id": "oKOTdF_Q_Zct"
   },
   "outputs": [
    {
     "data": {
      "text/plain": [
       "Index(['  userID', 'Track', 'artist', 'genre', '  City  ', 'time', 'Day'], dtype='object')"
      ]
     },
     "execution_count": 5,
     "metadata": {},
     "output_type": "execute_result"
    }
   ],
   "source": [
    "# a lista dos nomes das colunas na tabela df\n",
    "df.columns"
   ]
  },
  {
   "cell_type": "markdown",
   "metadata": {},
   "source": [
    "<div class=\"alert alert-block alert-warning\">\n",
    "<b>Comentário do revisor: </b> <a class=\"tocSkip\"></a>\n",
    "\n",
    "<s>A função `print()` é usada para exibir dados na tela, como voce ja esta usando `columns`, não há necessidade de usar a função print() aqui, pois o resultado será exibido de qualquer maneira, pois esta é a última linha da célula.\n",
    "Note que voce pode verificar e corrigir o problema aqui e em partes semelhantes do projeto.\n",
    "</div>"
   ]
  },
  {
   "cell_type": "markdown",
   "metadata": {},
   "source": [
    "<div class=\"alert alert-block alert-success\">\n",
    "<b> Comentário do revisor v.2: </b> <a class=\"tocSkip\"></a>\n",
    "\n",
    "Excelente!\n",
    "</div>"
   ]
  },
  {
   "cell_type": "markdown",
   "metadata": {
    "id": "zj5534cv_Zct"
   },
   "source": [
    "Mude os nomes das colunas de acordo com as regras da boa prática de estilo:\n",
    "* Se o nome tiver várias palavras, use snake_case\n",
    "* Todos os caracteres precisam estar com letras minúsculas\n",
    "* Delete espaços"
   ]
  },
  {
   "cell_type": "code",
   "execution_count": 6,
   "metadata": {
    "id": "ISlFqs5y_Zct"
   },
   "outputs": [],
   "source": [
    "# renomeando colunas\n",
    "df = df.rename(columns={\n",
    "    '  userID': 'user_id',\n",
    "    'Track' : 'track',\n",
    "    '  City  ': 'city',\n",
    "    'Day' : 'day',\n",
    "})"
   ]
  },
  {
   "cell_type": "markdown",
   "metadata": {},
   "source": [
    "<div class=\"alert alert-block alert-success\">\n",
    "<b> Comentário do revisor: </b> <a class=\"tocSkip\"></a>\n",
    "\n",
    "Boa escolha do método, o `rename()` funcionará sem erros, mesmo que a ordem das colunas seja alterada. \n",
    "</div>\n"
   ]
  },
  {
   "cell_type": "markdown",
   "metadata": {
    "id": "1dqbh00J_Zct"
   },
   "source": [
    "Verifique o resultado. Exiba os nomes das colunas mais uma vez:"
   ]
  },
  {
   "cell_type": "code",
   "execution_count": 7,
   "metadata": {
    "id": "d4NOAmTW_Zct"
   },
   "outputs": [
    {
     "data": {
      "text/plain": [
       "Index(['user_id', 'track', 'artist', 'genre', 'city', 'time', 'day'], dtype='object')"
      ]
     },
     "execution_count": 7,
     "metadata": {},
     "output_type": "execute_result"
    }
   ],
   "source": [
    "# checando o resultado: a lista dos nomes das colunas\n",
    "df.columns"
   ]
  },
  {
   "cell_type": "markdown",
   "metadata": {},
   "source": [
    "<div class=\"alert alert-block alert-success\">\n",
    "<b> Comentário do revisor: </b> <a class=\"tocSkip\"></a>\n",
    "    \n",
    "Excelente! As colunas foram renomeadas com sucesso!\n",
    "</div>"
   ]
  },
  {
   "cell_type": "markdown",
   "metadata": {
    "id": "xYJk6ksJVpOl"
   },
   "source": [
    "[Voltar ao Índice](#back)"
   ]
  },
  {
   "cell_type": "markdown",
   "metadata": {
    "id": "5ISfbcfY_Zct"
   },
   "source": [
    "### Valores ausentes <a id='missing_values'></a>\n",
    "Primeiro, encontre a quantidade de valores ausentes na tabela. Para fazer isso, use dois métodos pandas:"
   ]
  },
  {
   "cell_type": "code",
   "execution_count": 8,
   "metadata": {
    "id": "RskX29qr_Zct"
   },
   "outputs": [
    {
     "data": {
      "text/plain": [
       "user_id       0\n",
       "track      1343\n",
       "artist     7567\n",
       "genre      1198\n",
       "city          0\n",
       "time          0\n",
       "day           0\n",
       "dtype: int64"
      ]
     },
     "execution_count": 8,
     "metadata": {},
     "output_type": "execute_result"
    }
   ],
   "source": [
    "# calculando valores ausentes\n",
    "df.isna().sum()"
   ]
  },
  {
   "cell_type": "markdown",
   "metadata": {},
   "source": [
    "<div class=\"alert alert-block alert-success\">\n",
    "<b> Comentário do revisor: </b> <a class=\"tocSkip\"></a>\n",
    "\n",
    "O método `isna()` é escolhido para encontrar valores ausentes, isso é ótimo! Na verdade, `isnull()` e `isna()` fazem a mesma coisa, mas é preferível usar `isna()`.\n",
    "</div>"
   ]
  },
  {
   "cell_type": "markdown",
   "metadata": {
    "id": "qubhgnlO_Zct"
   },
   "source": [
    "Nem todos os valores ausentes afetam a pesquisa. Por exemplo, os valores ausentes na música e artista não é decisivo. Você pode simplesmente substituí-los por marcadores claros.\n",
    "\n",
    "Mas valores ausentes em `'genre'` pode afetar a comparação de preferências musicais de Springfield e Shelbyville. Na vida real, seria útil descobrir as razões pelas quais os dados estão ausentes e tentar compensá-los. Mas nós não temos essa possibilidade neste projeto. Então, você terá que:\n",
    "* Preencher os valores ausentes com marcadores\n",
    "* Avaliar o quanto os valores ausentes podem afetar os seus cálculos"
   ]
  },
  {
   "cell_type": "markdown",
   "metadata": {
    "id": "fSv2laPA_Zct"
   },
   "source": [
    "Substituir os valores ausentes em `'track'`, `'artist'`, e `'genre'` com a string `'unknown'`. Para fazer isso, crie a lista `columns_to_replace`, percorra-a com o laço `for`, e substitua os valores ausentes em cada uma das colunas:"
   ]
  },
  {
   "cell_type": "code",
   "execution_count": 9,
   "metadata": {
    "id": "KplB5qWs_Zct"
   },
   "outputs": [],
   "source": [
    "# percorrendo os nomes das colunas e substituindo valores ausentes com 'unknown'\n",
    "columns_to_replace = ['track','artist','genre']\n",
    "for column in columns_to_replace:\n",
    "    df[column] = df[column].fillna('unknown')"
   ]
  },
  {
   "cell_type": "markdown",
   "metadata": {},
   "source": [
    "<div class=\"alert alert-block alert-success\">\n",
    "<b> Comentário do revisor: </b> <a class=\"tocSkip\"></a>\n",
    "A lista columns_to_replace foi formada corretamente, o loop funcionou sem erros. Muito bem\n",
    "</div>"
   ]
  },
  {
   "cell_type": "markdown",
   "metadata": {
    "id": "Ilsm-MZo_Zct"
   },
   "source": [
    "Certifique-se de que a tabela não contenha mais valores ausentes. Conte os valores ausentes novamente."
   ]
  },
  {
   "cell_type": "code",
   "execution_count": 10,
   "metadata": {
    "id": "Tq4nYRX4_Zct"
   },
   "outputs": [
    {
     "data": {
      "text/plain": [
       "user_id    0\n",
       "track      0\n",
       "artist     0\n",
       "genre      0\n",
       "city       0\n",
       "time       0\n",
       "day        0\n",
       "dtype: int64"
      ]
     },
     "execution_count": 10,
     "metadata": {},
     "output_type": "execute_result"
    }
   ],
   "source": [
    "# contando os valores ausentes\n",
    "df.isna().sum()"
   ]
  },
  {
   "cell_type": "markdown",
   "metadata": {},
   "source": [
    "<div class=\"alert alert-block alert-success\">\n",
    "<b> Comentário do revisor: </b> <a class=\"tocSkip\"></a>\n",
    "\n",
    "Ótimo. Não tem mais nenhum valor ausente\n",
    "</div>\n"
   ]
  },
  {
   "cell_type": "markdown",
   "metadata": {
    "id": "74ZIBmq9VrsK"
   },
   "source": [
    "[Voltar ao Índice](#back)"
   ]
  },
  {
   "cell_type": "markdown",
   "metadata": {
    "id": "BWKRtBJ3_Zct"
   },
   "source": [
    "### Duplicatas <a id='duplicates'></a>\n",
    "Encontre o número de duplicatas óbvias na tabela usando um comando:"
   ]
  },
  {
   "cell_type": "code",
   "execution_count": 11,
   "metadata": {
    "id": "36eES_S0_Zct"
   },
   "outputs": [
    {
     "data": {
      "text/plain": [
       "3826"
      ]
     },
     "execution_count": 11,
     "metadata": {},
     "output_type": "execute_result"
    }
   ],
   "source": [
    "# contando duplicatas claras\n",
    "df.duplicated().sum()"
   ]
  },
  {
   "cell_type": "markdown",
   "metadata": {},
   "source": [
    "<div class=\"alert alert-block alert-success\">\n",
    "<b> Comentário do revisor: </b> <a class=\"tocSkip\"></a>\n",
    "\n",
    "Duplicatas são encontradas de forma correta e contadas pelos métodos ótimos. Muito bem\n",
    "</div>"
   ]
  },
  {
   "cell_type": "markdown",
   "metadata": {
    "id": "Ot25h6XR_Zct"
   },
   "source": [
    "Chame o método `pandas` para se livrar das duplicatas óbvias:"
   ]
  },
  {
   "cell_type": "code",
   "execution_count": 12,
   "metadata": {
    "id": "exFHq6tt_Zct"
   },
   "outputs": [],
   "source": [
    "# removendo duplicatas óbvias\n",
    "df = df.drop_duplicates().reset_index(drop = True)"
   ]
  },
  {
   "cell_type": "markdown",
   "metadata": {},
   "source": [
    "<div class=\"alert alert-block alert-danger\">\n",
    "<b>Comentário do revisor v.2: </b> <a class=\"tocSkip\"></a>\n",
    "\n",
    "<s>Bom trabalho com o uso do método `reset_index()` perceba que agora os indices estao compatíveis com o tamanho do dataframe, ressalto apenas que sera necessário acrecentar o parametro `drop=True` dentro da função `reset_index()` pois note que no dataframe temos duas colunas com index, se voce colocar o parametro `drop=True` os indices antigos nao seram passados.\n",
    "</div>"
   ]
  },
  {
   "cell_type": "markdown",
   "metadata": {},
   "source": [
    "<div class=\"alert alert-block alert-success\">\n",
    "<b> Comentário do revisor v.2: </b> <a class=\"tocSkip\"></a>\n",
    "\n",
    "Obrigada pela correção!\n",
    "</div>"
   ]
  },
  {
   "cell_type": "markdown",
   "metadata": {
    "id": "Im2YwBEG_Zct"
   },
   "source": [
    "Conte as duplicatas óbvias mais uma vez certifique-se que você removeu todas elas:"
   ]
  },
  {
   "cell_type": "code",
   "execution_count": 13,
   "metadata": {
    "id": "-8PuNWQ0_Zct"
   },
   "outputs": [
    {
     "data": {
      "text/plain": [
       "0"
      ]
     },
     "execution_count": 13,
     "metadata": {},
     "output_type": "execute_result"
    }
   ],
   "source": [
    "# verificando duplicatas\n",
    "df.duplicated().sum()"
   ]
  },
  {
   "cell_type": "markdown",
   "metadata": {
    "id": "QlFBsxAr_Zct"
   },
   "source": [
    "Agora, livre-se das duplicatas implícitas na coluna genre. Por exemplo, o nome de um gênero pode ser escrito de maneiras diferentes. Alguns erros afetarão também o resultado."
   ]
  },
  {
   "cell_type": "markdown",
   "metadata": {
    "id": "eSjWwsOh_Zct"
   },
   "source": [
    "Exiba a lista de nomes de gêneros únicos, organizados em ordem alfabética. Para fazer isso:\n",
    "* Recupere o DataFrame da coluna pretendida \n",
    "* Aplique um método de escolha para isso\n",
    "* Para a coluna selecionada, chame o método que irá retornar todos os valores únicos das colunas"
   ]
  },
  {
   "cell_type": "code",
   "execution_count": 14,
   "metadata": {
    "id": "JIUcqzZN_Zct"
   },
   "outputs": [
    {
     "name": "stdout",
     "output_type": "stream",
     "text": [
      "['acid' 'acoustic' 'action' 'adult' 'africa' 'afrikaans' 'alternative'\n",
      " 'ambient' 'americana' 'animated' 'anime' 'arabesk' 'arabic' 'arena'\n",
      " 'argentinetango' 'art' 'audiobook' 'avantgarde' 'axé' 'baile' 'balkan'\n",
      " 'beats' 'bigroom' 'black' 'bluegrass' 'blues' 'bollywood' 'bossa'\n",
      " 'brazilian' 'breakbeat' 'breaks' 'broadway' 'cantautori' 'cantopop'\n",
      " 'canzone' 'caribbean' 'caucasian' 'celtic' 'chamber' 'children' 'chill'\n",
      " 'chinese' 'choral' 'christian' 'christmas' 'classical' 'classicmetal'\n",
      " 'club' 'colombian' 'comedy' 'conjazz' 'contemporary' 'country' 'cuban'\n",
      " 'dance' 'dancehall' 'dancepop' 'dark' 'death' 'deep' 'deutschrock'\n",
      " 'deutschspr' 'dirty' 'disco' 'dnb' 'documentary' 'downbeat' 'downtempo'\n",
      " 'drum' 'dub' 'dubstep' 'eastern' 'easy' 'electronic' 'electropop' 'emo'\n",
      " 'entehno' 'epicmetal' 'estrada' 'ethnic' 'eurofolk' 'european'\n",
      " 'experimental' 'extrememetal' 'fado' 'film' 'fitness' 'flamenco' 'folk'\n",
      " 'folklore' 'folkmetal' 'folkrock' 'folktronica' 'forró' 'frankreich'\n",
      " 'französisch' 'french' 'funk' 'future' 'gangsta' 'garage' 'german'\n",
      " 'ghazal' 'gitarre' 'glitch' 'gospel' 'gothic' 'grime' 'grunge' 'gypsy'\n",
      " 'handsup' \"hard'n'heavy\" 'hardcore' 'hardstyle' 'hardtechno' 'hip'\n",
      " 'hip-hop' 'hiphop' 'historisch' 'holiday' 'hop' 'horror' 'house' 'idm'\n",
      " 'independent' 'indian' 'indie' 'indipop' 'industrial' 'inspirational'\n",
      " 'instrumental' 'international' 'irish' 'jam' 'japanese' 'jazz' 'jewish'\n",
      " 'jpop' 'jungle' 'k-pop' 'karadeniz' 'karaoke' 'kayokyoku' 'korean'\n",
      " 'laiko' 'latin' 'latino' 'leftfield' 'local' 'lounge' 'loungeelectronic'\n",
      " 'lovers' 'malaysian' 'mandopop' 'marschmusik' 'meditative'\n",
      " 'mediterranean' 'melodic' 'metal' 'metalcore' 'mexican' 'middle'\n",
      " 'minimal' 'miscellaneous' 'modern' 'mood' 'mpb' 'muslim' 'native'\n",
      " 'neoklassik' 'neue' 'new' 'newage' 'newwave' 'nu' 'nujazz' 'numetal'\n",
      " 'oceania' 'old' 'opera' 'orchestral' 'other' 'piano' 'pop'\n",
      " 'popelectronic' 'popeurodance' 'post' 'posthardcore' 'postrock' 'power'\n",
      " 'progmetal' 'progressive' 'psychedelic' 'punjabi' 'punk' 'quebecois'\n",
      " 'ragga' 'ram' 'rancheras' 'rap' 'rave' 'reggae' 'reggaeton' 'regional'\n",
      " 'relax' 'religious' 'retro' 'rhythm' 'rnb' 'rnr' 'rock' 'rockabilly'\n",
      " 'romance' 'roots' 'ruspop' 'rusrap' 'rusrock' 'salsa' 'samba' 'schlager'\n",
      " 'self' 'sertanejo' 'shoegazing' 'showtunes' 'singer' 'ska' 'slow'\n",
      " 'smooth' 'soul' 'soulful' 'sound' 'soundtrack' 'southern' 'specialty'\n",
      " 'speech' 'spiritual' 'sport' 'stonerrock' 'surf' 'swing' 'synthpop'\n",
      " 'sängerportrait' 'tango' 'tanzorchester' 'taraftar' 'tech' 'techno'\n",
      " 'thrash' 'top' 'traditional' 'tradjazz' 'trance' 'tribal' 'trip'\n",
      " 'triphop' 'tropical' 'türk' 'türkçe' 'unknown' 'urban' 'uzbek' 'variété'\n",
      " 'vi' 'videogame' 'vocal' 'western' 'world' 'worldbeat' 'ïîï']\n"
     ]
    }
   ],
   "source": [
    "# visualizando nomes de gêneros únicos\n",
    "columns_unique = df['genre'].sort_values().unique()\n",
    "print(columns_unique)"
   ]
  },
  {
   "cell_type": "markdown",
   "metadata": {},
   "source": [
    "<div class=\"alert alert-block alert-warning\">\n",
    "\n",
    "<b>Comentário do revisor: </b> <a class=\"tocSkip\"></a>\n",
    "    \n",
    "<s>Otimo uso do método `unique()`. Para ordenar a lista você também pode usar o  o método sort_values(), e fazer tudo em uma linha só, por exemplo `df['genre'].sort_values().unique()`"
   ]
  },
  {
   "cell_type": "markdown",
   "metadata": {},
   "source": [
    "<div class=\"alert alert-block alert-warning\">\n",
    "<b> Comentário do revisor v.2: </b> <a class=\"tocSkip\"></a>\n",
    "\n",
    "Otimo. Ressalto que você não precisa colocar print para exibir as informações!\n",
    "</div>"
   ]
  },
  {
   "cell_type": "markdown",
   "metadata": {
    "id": "qej-Qmuo_Zct"
   },
   "source": [
    "Olhe a lista e encontre duplicatas implícitas do gênero `hiphop`. Esses podem ser nomes escritos incorretamente, ou nomes alternativos para o mesmo gênero.\n",
    "\n",
    "Você verá as seguintes duplicatas implícitas:\n",
    "* `hip`\n",
    "* `hop`\n",
    "* `hip-hop`\n",
    "\n",
    "Para se livrar deles, declare a função `replace_wrong_genres()` com dois parâmetros: \n",
    "* `wrong_genres=` — a lista de duplicatas\n",
    "* `correct_genre=` — a string com o valor correto\n",
    "\n",
    "A função deve corrigir os nomes na coluna `'genre'` da tabela `df` isto é, substituindo cada valor da lista `wrong_genres` por valores de `correct_genre`."
   ]
  },
  {
   "cell_type": "code",
   "execution_count": 15,
   "metadata": {
    "id": "ErNDkmns_Zct"
   },
   "outputs": [],
   "source": [
    "# função para substituir duplicatas implícitas\n",
    "def replace_wrong_genres(wrong_genres, correct_genre):\n",
    "    for wrong_genre in wrong_genres:\n",
    "        df['genre'] = df['genre'].replace(wrong_genre, correct_genre)"
   ]
  },
  {
   "cell_type": "markdown",
   "metadata": {},
   "source": [
    "<div class=\"alert alert-block alert-success\">\n",
    "<b> Comentário do revisor: </b> <a class=\"tocSkip\"></a>\n",
    "\n",
    "Sucesso.  A função está escrita corretamente!\n",
    "</div>\n"
   ]
  },
  {
   "cell_type": "markdown",
   "metadata": {
    "id": "aDoBJxbA_Zct"
   },
   "source": [
    "Chame `replace_wrong_genres()` e passe a ela argumentos para que possa eliminar as duplicatas implícitas (`hip`, `hop`, e `hip-hop`) e substituí-los por `hiphop`:"
   ]
  },
  {
   "cell_type": "code",
   "execution_count": 16,
   "metadata": {
    "id": "YN5i2hpmSo09"
   },
   "outputs": [],
   "source": [
    "# removendo duplicatas implícitas\n",
    "replace_wrong_genres(['hip', 'hop','hip-hop'], 'hiphop')\n"
   ]
  },
  {
   "cell_type": "markdown",
   "metadata": {},
   "source": [
    "<div class=\"alert alert-block alert-success\">\n",
    "<b> Comentário do revisor: </b> <a class=\"tocSkip\"></a>\n",
    "\n",
    "Muito bem, a função foi chamada de forma correta e as duplicatas implícitas foram removidas\n",
    "</div>"
   ]
  },
  {
   "cell_type": "markdown",
   "metadata": {
    "id": "zQKF16_RG15m"
   },
   "source": [
    "Certifique-se que os nomes duplicados foram removidos. Exiba a lista de valores únicos da coluna `'genre'`:"
   ]
  },
  {
   "cell_type": "code",
   "execution_count": 17,
   "metadata": {
    "id": "wvixALnFG15m"
   },
   "outputs": [
    {
     "name": "stdout",
     "output_type": "stream",
     "text": [
      "['acid' 'acoustic' 'action' 'adult' 'africa' 'afrikaans' 'alternative'\n",
      " 'ambient' 'americana' 'animated' 'anime' 'arabesk' 'arabic' 'arena'\n",
      " 'argentinetango' 'art' 'audiobook' 'avantgarde' 'axé' 'baile' 'balkan'\n",
      " 'beats' 'bigroom' 'black' 'bluegrass' 'blues' 'bollywood' 'bossa'\n",
      " 'brazilian' 'breakbeat' 'breaks' 'broadway' 'cantautori' 'cantopop'\n",
      " 'canzone' 'caribbean' 'caucasian' 'celtic' 'chamber' 'children' 'chill'\n",
      " 'chinese' 'choral' 'christian' 'christmas' 'classical' 'classicmetal'\n",
      " 'club' 'colombian' 'comedy' 'conjazz' 'contemporary' 'country' 'cuban'\n",
      " 'dance' 'dancehall' 'dancepop' 'dark' 'death' 'deep' 'deutschrock'\n",
      " 'deutschspr' 'dirty' 'disco' 'dnb' 'documentary' 'downbeat' 'downtempo'\n",
      " 'drum' 'dub' 'dubstep' 'eastern' 'easy' 'electronic' 'electropop' 'emo'\n",
      " 'entehno' 'epicmetal' 'estrada' 'ethnic' 'eurofolk' 'european'\n",
      " 'experimental' 'extrememetal' 'fado' 'film' 'fitness' 'flamenco' 'folk'\n",
      " 'folklore' 'folkmetal' 'folkrock' 'folktronica' 'forró' 'frankreich'\n",
      " 'französisch' 'french' 'funk' 'future' 'gangsta' 'garage' 'german'\n",
      " 'ghazal' 'gitarre' 'glitch' 'gospel' 'gothic' 'grime' 'grunge' 'gypsy'\n",
      " 'handsup' \"hard'n'heavy\" 'hardcore' 'hardstyle' 'hardtechno' 'hiphop'\n",
      " 'historisch' 'holiday' 'horror' 'house' 'idm' 'independent' 'indian'\n",
      " 'indie' 'indipop' 'industrial' 'inspirational' 'instrumental'\n",
      " 'international' 'irish' 'jam' 'japanese' 'jazz' 'jewish' 'jpop' 'jungle'\n",
      " 'k-pop' 'karadeniz' 'karaoke' 'kayokyoku' 'korean' 'laiko' 'latin'\n",
      " 'latino' 'leftfield' 'local' 'lounge' 'loungeelectronic' 'lovers'\n",
      " 'malaysian' 'mandopop' 'marschmusik' 'meditative' 'mediterranean'\n",
      " 'melodic' 'metal' 'metalcore' 'mexican' 'middle' 'minimal'\n",
      " 'miscellaneous' 'modern' 'mood' 'mpb' 'muslim' 'native' 'neoklassik'\n",
      " 'neue' 'new' 'newage' 'newwave' 'nu' 'nujazz' 'numetal' 'oceania' 'old'\n",
      " 'opera' 'orchestral' 'other' 'piano' 'pop' 'popelectronic' 'popeurodance'\n",
      " 'post' 'posthardcore' 'postrock' 'power' 'progmetal' 'progressive'\n",
      " 'psychedelic' 'punjabi' 'punk' 'quebecois' 'ragga' 'ram' 'rancheras'\n",
      " 'rap' 'rave' 'reggae' 'reggaeton' 'regional' 'relax' 'religious' 'retro'\n",
      " 'rhythm' 'rnb' 'rnr' 'rock' 'rockabilly' 'romance' 'roots' 'ruspop'\n",
      " 'rusrap' 'rusrock' 'salsa' 'samba' 'schlager' 'self' 'sertanejo'\n",
      " 'shoegazing' 'showtunes' 'singer' 'ska' 'slow' 'smooth' 'soul' 'soulful'\n",
      " 'sound' 'soundtrack' 'southern' 'specialty' 'speech' 'spiritual' 'sport'\n",
      " 'stonerrock' 'surf' 'swing' 'synthpop' 'sängerportrait' 'tango'\n",
      " 'tanzorchester' 'taraftar' 'tech' 'techno' 'thrash' 'top' 'traditional'\n",
      " 'tradjazz' 'trance' 'tribal' 'trip' 'triphop' 'tropical' 'türk' 'türkçe'\n",
      " 'unknown' 'urban' 'uzbek' 'variété' 'vi' 'videogame' 'vocal' 'western'\n",
      " 'world' 'worldbeat' 'ïîï']\n"
     ]
    }
   ],
   "source": [
    "# verificando valores duplicados\n",
    "columns_unique = df['genre'].sort_values().unique()\n",
    "print(columns_unique)"
   ]
  },
  {
   "cell_type": "markdown",
   "metadata": {},
   "source": [
    "<div class=\"alert alert-block alert-warning\">\n",
    "\n",
    "<b>Comentário do revisor: </b> <a class=\"tocSkip\"></a>\n",
    "    \n",
    "<s>Ressalto o mesmo sobre o uso do método sort_values. O método `sort` do python é aplicado apenas para lista, enquanto que o `sort_values` do pandas, pode ser usado em dataframes"
   ]
  },
  {
   "cell_type": "markdown",
   "metadata": {
    "id": "ALgNbvF3VtPA"
   },
   "source": [
    "[Voltar ao Índice](#back)"
   ]
  },
  {
   "cell_type": "markdown",
   "metadata": {
    "id": "jz6a9-7HQUDd"
   },
   "source": [
    "### Conclusões <a id='data_preprocessing_conclusions'></a>\n",
    "Nós detectamos três problemas com os dados:\n",
    "\n",
    "- Estilo de cabeçalho incorreto\n",
    "- Valores ausentes\n",
    "- Duplicatas óbvias e implícitas\n",
    "\n",
    "O cabeçalho foi limpo para fazer o processamento da tabela mais simples.\n",
    "\n",
    "Todos os valores ausentes foram substituídos por `'unknown'`. Mas nós ainda temos que ver os se valores ausentes em `'genre'` afetará os nossos cálculos.\n",
    "\n",
    "A ausência de duplicatas deixará os resultados mais precisos e mais fáceis de entender.\n",
    "\n",
    "Agora você pode seguir para testar hipóteses."
   ]
  },
  {
   "cell_type": "markdown",
   "metadata": {
    "id": "eK1es74rVujj"
   },
   "source": [
    "[Voltar ao Índice](#back)"
   ]
  },
  {
   "cell_type": "markdown",
   "metadata": {
    "id": "WttZHXH0SqKk"
   },
   "source": [
    "## Etapa 3. Testando hipóteses <a id='hypotheses'></a>"
   ]
  },
  {
   "cell_type": "markdown",
   "metadata": {
    "id": "Im936VVi_Zcu"
   },
   "source": [
    "### Hipótese 1: comparando o comportamento dos usuários em duas cidades <a id='activity'></a>"
   ]
  },
  {
   "cell_type": "markdown",
   "metadata": {
    "id": "nwt_MuaL_Zcu"
   },
   "source": [
    "De acordo com a primeira hipótese, usuários de Springfield and Shelbyville escutam música de forma diferente. Teste essa hipótese usando os dados de três dias da semana: segunda-feira, quarta-feira, e sexta-feira.\n",
    "\n",
    "* Divida os usuários de cada cidade em grupos.\n",
    "* Compare quantas músicas cada grupo escutou na segunda-feira, quarta-feira e sexta-feira.\n"
   ]
  },
  {
   "cell_type": "markdown",
   "metadata": {
    "id": "8Dw_YMmT_Zcu"
   },
   "source": [
    "Por uma questão de prática, faça cada um desses cálculos separadamente. \n",
    "\n",
    "Avalie a atividade do usuário em cada cidade. Agrupe os dados por cidade e encontre o número de músicas tocadas em cada grupo.\n",
    "\n"
   ]
  },
  {
   "cell_type": "code",
   "execution_count": 18,
   "metadata": {
    "id": "0_Qs96oh_Zcu"
   },
   "outputs": [
    {
     "data": {
      "text/plain": [
       "city\n",
       "Shelbyville    18512\n",
       "Springfield    42741\n",
       "Name: track, dtype: int64"
      ]
     },
     "execution_count": 18,
     "metadata": {},
     "output_type": "execute_result"
    }
   ],
   "source": [
    "# Contando as músicas tocadas em cada cidade\n",
    "df.groupby('city')['track'].count()"
   ]
  },
  {
   "cell_type": "markdown",
   "metadata": {
    "id": "dzli3w8o_Zcu"
   },
   "source": [
    "Springfield tem mais músicas tocadas do que Shelbyville. Mas isso não quer dizer que os cidadãos de Springfield escutam música com mais frequência. Essa cidade é somente maior, e tem mais usuários.\n",
    "\n",
    "Agora agrupe os dados por dia da semana e encontre a quantidade de músicas tocadas na segunda, quarta e sexta-feira.\n"
   ]
  },
  {
   "cell_type": "code",
   "execution_count": 19,
   "metadata": {
    "id": "uZMKjiJz_Zcu"
   },
   "outputs": [
    {
     "data": {
      "text/plain": [
       "day\n",
       "Friday       21840\n",
       "Monday       21354\n",
       "Wednesday    18059\n",
       "Name: track, dtype: int64"
      ]
     },
     "execution_count": 19,
     "metadata": {},
     "output_type": "execute_result"
    }
   ],
   "source": [
    "# Calculando as músicas escutadas em cada um desses três dias\n",
    "df.groupby('day')['track'].count()"
   ]
  },
  {
   "cell_type": "markdown",
   "metadata": {},
   "source": [
    "<div class=\"alert alert-block alert-success\">\n",
    "<b> Comentário do revisor v.2: </b> <a class=\"tocSkip\"></a>\n",
    "\n",
    "Muito bem, excelente uso do método `groupby()`. <s>Ressalto que existe uma redundância no uso do método print\n",
    "</div>\n"
   ]
  },
  {
   "cell_type": "markdown",
   "metadata": {
    "id": "cC2tNrlL_Zcu"
   },
   "source": [
    "Quarta-feira é o dia mais calmo em geral. Mas se considerarmos as duas cidades separadamente, devemos chegar a uma conclusão diferente."
   ]
  },
  {
   "cell_type": "markdown",
   "metadata": {
    "id": "POzs8bGa_Zcu"
   },
   "source": [
    "Você viu como agrupar por cidade ou dia da semana funciona. Agora escreva a função que agrupar os dados pelos dois critérios.\n",
    "\n",
    "Crie a função `number_tracks()` para calcular o número de músicas tocadas em um determinado dia da semana e em cada cidade. Será necessários dois parâmetros:\n",
    "* dia da semana\n",
    "* nome da cidade\n",
    "\n",
    "Na função, use a variável para armazenar as linhas da tabela original, onde:\n",
    "  * `'day'` o valor da coluna `day` é igual ao parâmetro dia\n",
    "  * `'city'` o valor da coluna `city` é igual ao parâmetro cidade\n",
    "\n",
    "Aplique filtros consecutivos com indexação lógica.\n",
    "\n",
    "Depois, calcule os valores da coluna `'user_id'` na tabela resultante. Armazene o resultado na nova variável. Retorne essa variável da função."
   ]
  },
  {
   "cell_type": "code",
   "execution_count": 20,
   "metadata": {
    "id": "Nz3GdQB1_Zcu"
   },
   "outputs": [],
   "source": [
    "# <criando a função number_tracks()>\n",
    "# vamos declarar a função com dois parâmetros: day=, city=.\n",
    "# Deixe a variável track_list armazenar as linha df onde \n",
    "# o valor na coluna 'day' é igual ao parâmetro day= e ao mesmo tempo, \n",
    "# o valor na coluna 'city' é igual ao parâmetro city= (aplique filtragem consecutiva \n",
    "# com indexação lógica).\n",
    "# Deixe a variável track_list_count armazenar o número de valores da coluna 'user_id' em track_list\n",
    "# (encontre com o método count()).\n",
    "# Deixe a função retornar um número: o valor de track_list_count.\n",
    "def number_tracks(day, city):\n",
    "    track_list = df[(df['day'] == day)]\n",
    "    track_list = track_list[track_list['city'] == city]\n",
    "    track_list_count = track_list['user_id'].count()\n",
    "    return track_list_count\n",
    "\n",
    "# A função conta músicas tocadas por uma certa cidade e dia.\n",
    "# primeiro retorne as linhas com o dia pretendido da tabela,\n",
    "# depois filtre as linhas com a cidade pretendida a parir do resultado,\n",
    "# depois encontre o número de valores de 'user_id' na tabela filtrada,\n",
    "# então retorne aquele número.\n",
    "# Para o que ele retorna, envolva a função call em print()."
   ]
  },
  {
   "cell_type": "markdown",
   "metadata": {},
   "source": [
    "<div class=\"alert alert-block alert-success\">\n",
    "<b> Comentário do revisor: </b> <a class=\"tocSkip\"></a>\n",
    "\n",
    "Otimo, a função criada cumpre completamente suas tarefas.\n",
    "</div>"
   ]
  },
  {
   "cell_type": "markdown",
   "metadata": {
    "id": "ytf7xFrFJQ2r"
   },
   "source": [
    "Chame a `number_tracks()` seis vezes, mudando os valores dos parâmetros, para que você recupere os dados de ambas as cidades para os três dias."
   ]
  },
  {
   "cell_type": "code",
   "execution_count": 21,
   "metadata": {
    "id": "rJcRATNQ_Zcu"
   },
   "outputs": [
    {
     "name": "stdout",
     "output_type": "stream",
     "text": [
      "15740\n"
     ]
    }
   ],
   "source": [
    "# a quantidade de músicas tocadas em Springfield na segunda-feira\n",
    "print(number_tracks('Monday', 'Springfield'))"
   ]
  },
  {
   "cell_type": "code",
   "execution_count": 22,
   "metadata": {
    "id": "hq_ncZ5T_Zcu"
   },
   "outputs": [
    {
     "name": "stdout",
     "output_type": "stream",
     "text": [
      "5614\n"
     ]
    }
   ],
   "source": [
    "# a quantidade de músicas tocadas em Shelbyville na segunda-feira\n",
    "print(number_tracks('Monday', 'Shelbyville'))"
   ]
  },
  {
   "cell_type": "code",
   "execution_count": 23,
   "metadata": {
    "id": "_NTy2VPU_Zcu"
   },
   "outputs": [
    {
     "name": "stdout",
     "output_type": "stream",
     "text": [
      "11056\n"
     ]
    }
   ],
   "source": [
    "# a quantidade de músicas tocadas em Springfield na quarta-feira\n",
    "print(number_tracks('Wednesday', 'Springfield'))"
   ]
  },
  {
   "cell_type": "code",
   "execution_count": 24,
   "metadata": {
    "id": "j2y3TAwo_Zcu"
   },
   "outputs": [
    {
     "name": "stdout",
     "output_type": "stream",
     "text": [
      "7003\n"
     ]
    }
   ],
   "source": [
    "# a quantidade de músicas tocadas em Shelbyville na quarta-feira\n",
    "print(number_tracks('Wednesday', 'Shelbyville'))"
   ]
  },
  {
   "cell_type": "code",
   "execution_count": 25,
   "metadata": {
    "id": "vYDw5u_K_Zcu"
   },
   "outputs": [
    {
     "name": "stdout",
     "output_type": "stream",
     "text": [
      "15945\n"
     ]
    }
   ],
   "source": [
    "# a quantidade de músicas tocadas em Springfield na sexta-feira\n",
    "print(number_tracks('Friday', 'Springfield'))"
   ]
  },
  {
   "cell_type": "code",
   "execution_count": 26,
   "metadata": {
    "id": "8_yzFtW3_Zcu"
   },
   "outputs": [
    {
     "name": "stdout",
     "output_type": "stream",
     "text": [
      "5895\n"
     ]
    }
   ],
   "source": [
    "# a quantidade de músicas tocadas em Shelbyville na sexta-feira\n",
    "print(number_tracks('Friday', 'Shelbyville'))"
   ]
  },
  {
   "cell_type": "markdown",
   "metadata": {},
   "source": [
    "<div class=\"alert alert-block alert-success\">\n",
    "<b> Comentário do revisor: </b> <a class=\"tocSkip\"></a>\n",
    "\n",
    "Otimo. Os argumentos das funções foram passados de forma correta.\n",
    "</div>"
   ]
  },
  {
   "cell_type": "markdown",
   "metadata": {
    "id": "7QXffbO-_Zcu"
   },
   "source": [
    "Use `pd.DataFrame` para criar uma tabela, onde\n",
    "* Os nomes das colunas são: `['city', 'monday', 'wednesday', 'friday']`\n",
    "* Os dados são o resultado que você recebe de `number_tracks()`"
   ]
  },
  {
   "cell_type": "code",
   "execution_count": 27,
   "metadata": {
    "id": "APAcLpOr_Zcu"
   },
   "outputs": [
    {
     "name": "stdout",
     "output_type": "stream",
     "text": [
      "          city  monday  wednesday  friday\n",
      "0  Springfield   15740      11056   15945\n",
      "1  Shelbyville    5614       7003    5895\n"
     ]
    }
   ],
   "source": [
    "# tabela com resultados\n",
    "springfield_monday = number_tracks('Monday', 'Springfield')\n",
    "springfield_wednesday = number_tracks('Wednesday', 'Springfield')\n",
    "springfield_friday = number_tracks('Friday', 'Springfield')\n",
    "Shelbyville_monday = number_tracks('Monday', 'Shelbyville')\n",
    "Shelbyville_wednesday = number_tracks('Wednesday', 'Shelbyville')\n",
    "Shelbyville_friday = number_tracks('Friday', 'Shelbyville')\n",
    "\n",
    "dicionario = {\n",
    "    'city' : ['Springfield', 'Shelbyville'],\n",
    "    'monday' : [springfield_monday, Shelbyville_monday],\n",
    "    'wednesday' : [springfield_wednesday, Shelbyville_wednesday],\n",
    "    'friday' : [springfield_friday, Shelbyville_friday],\n",
    "}\n",
    "df_city = pd.DataFrame(dicionario)\n",
    "\n",
    "print(df_city)"
   ]
  },
  {
   "cell_type": "markdown",
   "metadata": {},
   "source": [
    "<div class=\"alert alert-block alert-warning\">\n",
    "<b> Comentário do revisor: </b> <a class=\"tocSkip\"></a>\n",
    "\n",
    "<s>A tabela foi criada corretamente. Otimo uso dos dicionários. Ressalto apenas que você também pode armazenar essa chamada da função em variáveis, por exemplo: `springfiled_monday = number_tracks('Monday', 'Springfield')` nas 6 chamadas, e em seguida quando você precisar dessa acessar variavel para formar a tabela sera de forma dinamica e sem precisar chamar novamente as funções\n",
    "</div>"
   ]
  },
  {
   "cell_type": "markdown",
   "metadata": {},
   "source": [
    "<div class=\"alert alert-block alert-warning\">\n",
    "<b> Comentário do revisor v.2: </b> <a class=\"tocSkip\"></a>\n",
    "\n",
    "Essa alocação de das chamadas das funções em variáveis pode ser feita mas em cima, once você ja tinha chamado elas 6 vezes. Na parte da atividade que pede `Chame a number_tracks() seis vezes, mudando os valores dos parâmetros, para que você recupere os dados de ambas as cidades para os três dias.` Dessa forma você não chama a mesma função mais de uma vez\n",
    "</div>"
   ]
  },
  {
   "cell_type": "markdown",
   "metadata": {
    "id": "-EgPIHYu_Zcu"
   },
   "source": [
    "**Conclusões**\n",
    "\n",
    "Os dados revelam diferenças no comportamento dos usuários:\n",
    "\n",
    "- Em Springfield, a quantidade de músicas tocadas tem seu auge nas segundas e sextas-feiras, enquanto na quarta-feira há uma diminuição na atividade.\n",
    "- Em Shelbyville, ao contrário, usuários escutam mais música na quarta-feira. A atividade na segunda e sexta-feira é pequena.\n",
    "\n",
    "Então a primeira hipótese parece ser correta."
   ]
  },
  {
   "cell_type": "markdown",
   "metadata": {
    "id": "p7nFQajCVw5B"
   },
   "source": [
    "[Voltar ao Índice](#back)"
   ]
  },
  {
   "cell_type": "markdown",
   "metadata": {
    "id": "atZAxtq4_Zcu"
   },
   "source": [
    "### Hipótese 2: música no começo e no fim da semana <a id='week'></a>"
   ]
  },
  {
   "cell_type": "markdown",
   "metadata": {
    "id": "eXrQqXFH_Zcu"
   },
   "source": [
    "De acordo com a segunda hipótese, na segunda-feira de manhã e sexta-feira à noite, habitantes de Springfield escutam gêneros que diferem de alguns usuários de Shelbyville gostam."
   ]
  },
  {
   "cell_type": "markdown",
   "metadata": {
    "id": "S8UcW6Hw_Zcu"
   },
   "source": [
    "Obtenha uma tabela (certifique-se de que o nome da sua tabela combinada corresponda ao DataFrame dado em dois blocos de código abaixo):\n",
    "* Para Springfield — `spr_general`\n",
    "* Para Shelbyville — `shel_general`"
   ]
  },
  {
   "cell_type": "code",
   "execution_count": 28,
   "metadata": {
    "id": "qeaFfM_P_Zcu"
   },
   "outputs": [],
   "source": [
    "# obtendo a tabela spr_generala partir das linhas df, \n",
    "# onde o valor na coluna 'city' é 'Springfield'\n",
    "spr_general = df[(df['city'] == 'Springfield')]"
   ]
  },
  {
   "cell_type": "code",
   "execution_count": 29,
   "metadata": {
    "id": "ORaVRKto_Zcu"
   },
   "outputs": [],
   "source": [
    "# obtendo os shel_general a partir das linhas df,\n",
    "# onde os valores na coluna 'city' é 'Shelbyville'\n",
    "shel_general = df[(df['city'] == 'Shelbyville')]"
   ]
  },
  {
   "cell_type": "markdown",
   "metadata": {},
   "source": [
    "<div class=\"alert alert-block alert-success\">\n",
    "<b> Comentário do revisor: </b> <a class=\"tocSkip\"></a>\n",
    "Bom trabalho!\n",
    "</div>"
   ]
  },
  {
   "cell_type": "markdown",
   "metadata": {
    "id": "MEJV-CX2_Zcu"
   },
   "source": [
    "Escreva a função `genre_weekday()` com quatro parâmetros:\n",
    "* Uma tabela para dados (`df`)\n",
    "* O dia da semana (`day`)\n",
    "* O primeiro carimbo de hora, no formato 'HH:MM' (`time1`)\n",
    "* O último carimbo de hora, no formato 'HH,MM' (`time2`)\n",
    "\n",
    "A função deve retornar informações sobre os 15 gêneros mais populares em um determinado dia, dentro do período entre os dois carimbos de hora."
   ]
  },
  {
   "cell_type": "code",
   "execution_count": 30,
   "metadata": {
    "id": "laJT9BYl_Zcu"
   },
   "outputs": [],
   "source": [
    "# Declarando a função genre_weekday() com os parâmetros day=, time1=, e time2=. It should\n",
    "# retornar a informação sobre os gêneros mais populares em um determinado dia em um período específico:\n",
    "\n",
    "# 1) Deixe a variável genre_df armazenar as linhas que satisfazem várias condições:\n",
    "#    - o valor na coluna 'day' é igual ao valor do argumento day=\n",
    "#    - o valor na coluna 'time' é maior do que o valor do argumento time1=\n",
    "#    - o valor na coluna 'time' é menor do que o valor do argumento time2=\n",
    "#    Use filtros consecutivos com indexação lógica.\n",
    "    \n",
    "# 2) Agrupe genre_df pela coluna 'genre', pegue uma das suas colunas, \n",
    "#    e use o método count() para encontrar a quantidade de entradas para entradas de cada um dos \n",
    "#    representantes de gênero; armazene o objeto Series resultante na\n",
    "#    variável genre_df_count\n",
    "    \n",
    "# 3) Organize genre_df_count em ordem decrescente de frequência e armazene o resultado\n",
    "#    para a variável genre_df_sorted\n",
    "   \n",
    "# 4) Retorne um objeto Series com os primeiros 15 valores genre_df_sorted - os 15 maiores\n",
    "#    generos populares (em um determinado dia, dentro de um certo intervalo de tempo)\n",
    "\n",
    "# Escreva a sua função aqui\n",
    "def genre_weekday(df, day, time1, time2):\n",
    "    # filtragem consecutiva\n",
    "    # genre_df armazenará apenas as linhas df onde o dia é igual a day=\n",
    "    genre_df = df[(df['day'] == day)]\n",
    "\n",
    "    # genre_df armazenará apenas aslinhas df que o tempo é menor do que time2=\n",
    "    genre_df = genre_df[(genre_df['time'] < time2)]\n",
    "\n",
    "    # genre_df armazenará apenas as linhas onde onde o tempo é maior do que time1=\n",
    "    genre_df = genre_df[(genre_df['time'] > time1)]\n",
    "\n",
    "    # agrope o DataFrame filtrado pela coluna com nomes dos gêneros, pegue a coluna gênero, e encontre o número de linhas para cada gênero com o método count()\n",
    "    genre_df_grouped = genre_df.groupby('genre')['track'].count()\n",
    "    \n",
    "    # nós vamos armazenar o resultado em ordem decrescente (para que os gêneros mais populares venham primeiro no objeto Series)\n",
    "    genre_df_sorted = genre_df_grouped.sort_values(ascending = False)\n",
    "    \n",
    "    # nós vamos retornar o objeto Serie armazenando os 15 gêneros mais populares em um determinado dia, dentro de um determinado intervalo de tempo\n",
    "    return genre_df_sorted[:15]"
   ]
  },
  {
   "cell_type": "markdown",
   "metadata": {},
   "source": [
    "<div class=\"alert alert-block alert-success\">\n",
    "<b> Comentário do revisor: </b> <a class=\"tocSkip\"></a>\n",
    "Otimo, muito bom uso dos metodos count(), groupby() e sort_values() e o uso dos conceitos para fazer funções!\n",
    "</div>"
   ]
  },
  {
   "cell_type": "markdown",
   "metadata": {
    "id": "la2s2_PF_Zcu"
   },
   "source": [
    "Compare os resultados da função `genre_weekday()` para Springfield e Shelbyville na segunda-feira de manhã (de 7hs à 11hs) e na sexta-feira de tarde (das 17hs às 23hs):"
   ]
  },
  {
   "cell_type": "code",
   "execution_count": 31,
   "metadata": {
    "id": "yz7itPUQ_Zcu"
   },
   "outputs": [
    {
     "data": {
      "text/plain": [
       "genre\n",
       "pop            781\n",
       "dance          549\n",
       "electronic     480\n",
       "rock           474\n",
       "hiphop         286\n",
       "ruspop         186\n",
       "world          181\n",
       "rusrap         175\n",
       "alternative    164\n",
       "unknown        161\n",
       "classical      157\n",
       "metal          120\n",
       "jazz           100\n",
       "folk            97\n",
       "soundtrack      95\n",
       "Name: track, dtype: int64"
      ]
     },
     "execution_count": 31,
     "metadata": {},
     "output_type": "execute_result"
    }
   ],
   "source": [
    "# chamando a função para segunda-feira de manha em Springfield (use spr_general em vez de df table)\n",
    "genre_weekday(spr_general, 'Monday',  '07:00:00', '11:00:00')"
   ]
  },
  {
   "cell_type": "code",
   "execution_count": 32,
   "metadata": {
    "id": "kwUcHPdy_Zcu"
   },
   "outputs": [
    {
     "data": {
      "text/plain": [
       "genre\n",
       "pop            218\n",
       "dance          182\n",
       "rock           162\n",
       "electronic     147\n",
       "hiphop          80\n",
       "ruspop          64\n",
       "alternative     58\n",
       "rusrap          55\n",
       "jazz            44\n",
       "classical       40\n",
       "world           36\n",
       "rap             32\n",
       "soundtrack      31\n",
       "rnb             27\n",
       "metal           27\n",
       "Name: track, dtype: int64"
      ]
     },
     "execution_count": 32,
     "metadata": {},
     "output_type": "execute_result"
    }
   ],
   "source": [
    "# chamando a função para segunda-feira de manhã em Shelbyville (use shel_general em vez de df table)\n",
    "genre_weekday(shel_general, 'Monday',  '07:00:00', '11:00:00')"
   ]
  },
  {
   "cell_type": "code",
   "execution_count": 33,
   "metadata": {
    "id": "EzXVRE1o_Zcu"
   },
   "outputs": [
    {
     "data": {
      "text/plain": [
       "genre\n",
       "pop            717\n",
       "dance          524\n",
       "rock           518\n",
       "electronic     485\n",
       "hiphop         238\n",
       "alternative    182\n",
       "world          172\n",
       "classical      172\n",
       "ruspop         149\n",
       "rusrap         133\n",
       "jazz           124\n",
       "unknown        109\n",
       "soundtrack      92\n",
       "folk            89\n",
       "metal           88\n",
       "Name: track, dtype: int64"
      ]
     },
     "execution_count": 33,
     "metadata": {},
     "output_type": "execute_result"
    }
   ],
   "source": [
    "# chamando a função para sexta-feira à tarde em Springfield\n",
    "genre_weekday(spr_general, 'Monday',  '17:00:00', '23:00:00')"
   ]
  },
  {
   "cell_type": "code",
   "execution_count": 34,
   "metadata": {
    "id": "JZaEKu5v_Zcu"
   },
   "outputs": [
    {
     "data": {
      "text/plain": [
       "genre\n",
       "pop            263\n",
       "rock           208\n",
       "electronic     192\n",
       "dance          191\n",
       "hiphop         104\n",
       "alternative     72\n",
       "classical       71\n",
       "jazz            57\n",
       "rusrap          54\n",
       "ruspop          53\n",
       "world           52\n",
       "unknown         51\n",
       "metal           43\n",
       "folk            39\n",
       "soundtrack      37\n",
       "Name: track, dtype: int64"
      ]
     },
     "execution_count": 34,
     "metadata": {},
     "output_type": "execute_result"
    }
   ],
   "source": [
    "# chamando a função para sexta-feira à tarde em Shelbyville\n",
    "genre_weekday(shel_general, 'Monday',  '17:00:00', '23:00:00')"
   ]
  },
  {
   "cell_type": "markdown",
   "metadata": {},
   "source": [
    "<div class=\"alert alert-block alert-success\">\n",
    "<b> Comentário do revisor: </b> <a class=\"tocSkip\"></a>\n",
    "Bom trabalho! A função foi chamada corretamente as 4 vezes e foi possivel conseguir todas as informações necessárias! A conclusão foi clara e objetiva.\n",
    "    \n",
    "</div>"
   ]
  },
  {
   "cell_type": "markdown",
   "metadata": {
    "id": "wrCe4MNX_Zcu"
   },
   "source": [
    "**Conclusão**\n",
    "\n",
    "Tendo comparado os 15 gêneros mais ouvidos na segunda-feira de manhã, nós podemos tirar as seguintes conclusões:\n",
    "\n",
    "1. Usuários de Springfield e Shelbyville escutam músicas semelhantes. Os cinco gêneros mais ouvidos são os mesmos, apenas rock e música eletrônica trocaram de lugar.\n",
    "\n",
    "2. Em Springfield, a quantidade de valores ausentes acabaram por serem tantos que o valor `'unknown'` veio em 10º. Isso significa que valores ausentes tiveram uma considerável porção dos dados, que pode ser a base para questionamentos a confiabilidade das conclusões.\n",
    "\n",
    "Para sexta-feira à tarde, a situação é parecida. Gêneros individuais variam um pouco, mas no todo, os 15 gêneros mais ouvidos são parecidos para as duas cidades.\n",
    "\n",
    "Assim, a segunda hipótese foi parcialmente provada:\n",
    "* Usuários escutam gêneros musicais parecidos no começo e no fim da semana.\n",
    "* Não há grande diferença entre Springfield e Shelbyville. Nas duas cidades, pop é o gênero mais popular.\n",
    "\n",
    "No entanto, o número de valores ausentes faz esse resultado ser questionável. Em Springfield, há tantos que eles afetaram o top 15. Se não nos faltassem esses valores, as coisas poderiam ser diferentes."
   ]
  },
  {
   "cell_type": "markdown",
   "metadata": {
    "id": "jLmXgdanVyhP"
   },
   "source": [
    "[Voltar ao Índice](#back)"
   ]
  },
  {
   "cell_type": "markdown",
   "metadata": {
    "id": "JolODAqr_Zcu"
   },
   "source": [
    "### Hipótese 3: preferências em Springfield e Shelbyville <a id='genre'></a>\n",
    "\n",
    "Hipótese: Shelbyville ama rap. Cidadãos de Springfield curtem mais pop."
   ]
  },
  {
   "cell_type": "markdown",
   "metadata": {
    "id": "DlegSvaT_Zcu"
   },
   "source": [
    "Agrupe a tabela `spr_general` por gênero e encontre o número de músicas tocadas para cada gênero com o método `count()`. Depois organize o resultado em ordem decrescente e armazene-o em `spr_genres`."
   ]
  },
  {
   "cell_type": "code",
   "execution_count": 35,
   "metadata": {
    "id": "r19lIPke_Zcu"
   },
   "outputs": [],
   "source": [
    "# em uma linha: agrupe a tabela spr_general pela coluna 'genre', \n",
    "# conte os valores de 'genre' com count() no agrupamento, \n",
    "# organize o o objeto Series resultante em ordem decrescente, e armazene-o em spr_genres\n",
    "spr_general_grouped = spr_general.groupby('genre')['track'].count()\n",
    "spr_genres = spr_general_grouped.sort_values(ascending = False)"
   ]
  },
  {
   "cell_type": "markdown",
   "metadata": {},
   "source": [
    "<div class=\"alert alert-block alert-success\">\n",
    "<b> Comentário do revisor: </b> <a class=\"tocSkip\"></a>\n",
    "\n",
    "Otimo uso do `groupby()` e tambem do `sort_values` para ordenar de forma decrescente\n",
    "</div>\n"
   ]
  },
  {
   "cell_type": "markdown",
   "metadata": {
    "id": "6kMuomxTiIr8"
   },
   "source": [
    "Exiba as primeiras 10 linhas de `spr_genres`:"
   ]
  },
  {
   "cell_type": "code",
   "execution_count": 36,
   "metadata": {
    "id": "WhCSooF8_Zcv"
   },
   "outputs": [
    {
     "name": "stdout",
     "output_type": "stream",
     "text": [
      "genre\n",
      "pop            5892\n",
      "dance          4435\n",
      "rock           3965\n",
      "electronic     3786\n",
      "hiphop         2096\n",
      "classical      1616\n",
      "world          1432\n",
      "alternative    1379\n",
      "ruspop         1372\n",
      "rusrap         1161\n",
      "Name: track, dtype: int64\n"
     ]
    }
   ],
   "source": [
    "# exibindo as primeiras 10 linhas de spr_genres\n",
    "print(spr_genres.head(10))"
   ]
  },
  {
   "cell_type": "markdown",
   "metadata": {
    "id": "cnPG2vnN_Zcv"
   },
   "source": [
    "Agora faça o mesmo com os dados de Shelbyville.\n",
    "\n",
    "Agrupe a tabela `shel_general` por gênero e encontre o número de músicas tocadas de cada gênero. Depois organize o resultado em ordem decrescente e armazene-o na tabela `shel_genres`:\n"
   ]
  },
  {
   "cell_type": "code",
   "execution_count": 37,
   "metadata": {
    "id": "gluLIpE7_Zcv"
   },
   "outputs": [],
   "source": [
    "# na linha um: agrupe a tabela shel_general pela coluna 'genre', \n",
    "# conte os valores 'genre' no agrupamento com count(), \n",
    "# organize a o objeto Series resultante em ordem decrescente e armazene-o em shel_genres\n",
    "shel_general_grouped = shel_general.groupby('genre')['track'].count()\n",
    "shel_genres = shel_general_grouped.sort_values(ascending = False)"
   ]
  },
  {
   "cell_type": "markdown",
   "metadata": {
    "id": "5Doha_ODgyQ8"
   },
   "source": [
    "Exiba as 10 primeiras linhas de `shel_genres`:"
   ]
  },
  {
   "cell_type": "code",
   "execution_count": 38,
   "metadata": {
    "id": "uaGJHjVU_Zcv"
   },
   "outputs": [
    {
     "data": {
      "text/plain": [
       "genre\n",
       "pop            2431\n",
       "dance          1932\n",
       "rock           1879\n",
       "electronic     1736\n",
       "hiphop          960\n",
       "alternative     649\n",
       "classical       646\n",
       "rusrap          564\n",
       "ruspop          538\n",
       "world           515\n",
       "Name: track, dtype: int64"
      ]
     },
     "execution_count": 38,
     "metadata": {},
     "output_type": "execute_result"
    }
   ],
   "source": [
    "# exibindo as 10 primeiras linhas de shel_genres\n",
    "shel_genres.head(10)"
   ]
  },
  {
   "cell_type": "markdown",
   "metadata": {},
   "source": [
    "<div class=\"alert alert-block alert-success\">\n",
    "<b> Comentário do revisor: </b> <a class=\"tocSkip\"></a>\n",
    "\n",
    "Excelente\n",
    "</div>"
   ]
  },
  {
   "cell_type": "markdown",
   "metadata": {
    "id": "RY51YJYu_Zcv"
   },
   "source": [
    "**Conclusão**"
   ]
  },
  {
   "cell_type": "markdown",
   "metadata": {
    "id": "nVhnJEm__Zcv"
   },
   "source": [
    "A hipótese foi parcialmente provada:\n",
    "* Música pop é o gênero mais em Springfield, como esperado.\n",
    "* Entretanto, música pop acabou por ser igualmente popular em Springfield e Shelbyville, e rap não estava no top 5 em nenhuma cidade.\n"
   ]
  },
  {
   "cell_type": "markdown",
   "metadata": {
    "id": "Byr0RfpPVz14"
   },
   "source": [
    "[Voltar ao Índice](#back)"
   ]
  },
  {
   "cell_type": "markdown",
   "metadata": {
    "id": "ykKQ0N65_Zcv"
   },
   "source": [
    "# Conclusões <a id='end'></a>"
   ]
  },
  {
   "cell_type": "markdown",
   "metadata": {
    "id": "tjUwbHb3_Zcv"
   },
   "source": [
    "Nós testamos as três hipóteses seguintes:\n",
    "\n",
    "1. A atividade do usuário varia dependendo do dia da semana e da cidade. \n",
    "2. Nas segundas-feiras de manhã, os habitantes de Springfield e Shelbyville escutam diferentes gêneros. Isso também é verdadeiro para noites de sexta-feira. \n",
    "3. Ouvintes de Springfield e Shelbyville têm preferências diferentes. Tanto em Springfield como Shellbyville, eles preferem pop.\n",
    "\n",
    "Depois de analisar os dados, nós concluímos:\n",
    "\n",
    "1. A atividade do usuário em Springfield e Shelbyville depende do dia da semana, embora as cidades variam de formas diferentes. \n",
    "\n",
    "A primeira hipótese é totalmente aceita.\n",
    "\n",
    "2. As preferências musicais não variam significativamente ao decorrer da semana tanto em Springfield como em Shelbyville. Nós podemos ver pequenas diferenças na ordem nas segundas-feiras, mas:\n",
    "* Em Springfield e Shelbyville, as pessoas escutam mais música pop.\n",
    "\n",
    "Então nós podemos aceitar essa hipótese. Nós devemos também ter em mente que o resultado pode ter sido diferente se não fosse pelos valores ausentes.\n",
    "\n",
    "3. Acontece que preferências musicais dos usuários de Springfield e Shelbyville são bastante parecidas.\n",
    "\n",
    "A terceira hipótese foi rejeitada. Se há alguma diferença nas preferências, ela não pode ser vista nesses dados.\n",
    "\n",
    "### Observação \n",
    "Em projetos reais, pesquisas envolvendo teste estatístico de hipóteses, que é mais preciso e mais quantitativo. Também perceba que você não pode sempre tirar conclusões sobre uma cidade inteira com base em dados de apenas uma fonte.\n",
    "\n",
    "Você vai estudar teste de hipóteses no sprint sobre análise estatística de dados."
   ]
  },
  {
   "cell_type": "markdown",
   "metadata": {},
   "source": [
    "<div class=\"alert alert-block alert-success\">\n",
    "<b> Comentário do revisor: </b> <a class=\"tocSkip\"></a>\n",
    "Muito bem, as hipoteses foram testadas de forma correta, os resultados obtidos foram bem analisados e discutidos. Gostei dos insights e da forma como as conclusoes foi escritas. Parabens!\n",
    "</div>"
   ]
  },
  {
   "cell_type": "markdown",
   "metadata": {
    "id": "Ju4AHDSgV1FE"
   },
   "source": [
    "[Voltar ao Índice](#back)"
   ]
  }
 ],
 "metadata": {
  "ExecuteTimeLog": [
   {
    "duration": 404,
    "start_time": "2022-08-04T18:57:44.637Z"
   },
   {
    "duration": 3,
    "start_time": "2022-08-04T18:57:47.938Z"
   },
   {
    "duration": 38,
    "start_time": "2022-08-07T14:22:09.065Z"
   },
   {
    "duration": 8,
    "start_time": "2022-08-07T14:22:37.421Z"
   },
   {
    "duration": 415,
    "start_time": "2022-08-07T14:22:45.258Z"
   },
   {
    "duration": 514,
    "start_time": "2022-08-07T14:22:48.143Z"
   },
   {
    "duration": 2,
    "start_time": "2022-08-07T14:22:57.890Z"
   },
   {
    "duration": 237,
    "start_time": "2022-08-07T14:22:59.364Z"
   },
   {
    "duration": 6,
    "start_time": "2022-08-07T14:23:36.314Z"
   },
   {
    "duration": 27,
    "start_time": "2022-08-07T14:24:18.968Z"
   },
   {
    "duration": 7,
    "start_time": "2022-08-07T14:24:26.136Z"
   },
   {
    "duration": 4,
    "start_time": "2022-08-07T14:29:35.484Z"
   },
   {
    "duration": 3,
    "start_time": "2022-08-07T14:31:51.426Z"
   },
   {
    "duration": 10,
    "start_time": "2022-08-07T14:34:39.622Z"
   },
   {
    "duration": 3,
    "start_time": "2022-08-07T14:34:52.028Z"
   },
   {
    "duration": 20,
    "start_time": "2022-08-07T14:37:00.413Z"
   },
   {
    "duration": 14,
    "start_time": "2022-08-07T14:48:08.863Z"
   },
   {
    "duration": 20,
    "start_time": "2022-08-07T14:48:27.049Z"
   },
   {
    "duration": 69,
    "start_time": "2022-08-07T14:53:10.092Z"
   },
   {
    "duration": 62,
    "start_time": "2022-08-07T14:54:01.095Z"
   },
   {
    "duration": 8,
    "start_time": "2022-08-07T14:55:18.765Z"
   },
   {
    "duration": 8,
    "start_time": "2022-08-07T14:55:47.091Z"
   },
   {
    "duration": 52,
    "start_time": "2022-08-07T14:55:58.998Z"
   },
   {
    "duration": 73,
    "start_time": "2022-08-07T14:56:01.631Z"
   },
   {
    "duration": 59,
    "start_time": "2022-08-07T14:56:17.716Z"
   },
   {
    "duration": 8,
    "start_time": "2022-08-07T15:00:35.367Z"
   },
   {
    "duration": 9,
    "start_time": "2022-08-07T15:02:05.898Z"
   },
   {
    "duration": 129,
    "start_time": "2022-08-07T15:03:47.997Z"
   },
   {
    "duration": 54,
    "start_time": "2022-08-07T15:03:57.023Z"
   },
   {
    "duration": 9,
    "start_time": "2022-08-07T15:05:56.421Z"
   },
   {
    "duration": 6,
    "start_time": "2022-08-07T15:06:19.223Z"
   },
   {
    "duration": 5,
    "start_time": "2022-08-07T15:06:55.109Z"
   },
   {
    "duration": 12,
    "start_time": "2022-08-07T15:12:27.746Z"
   },
   {
    "duration": 6,
    "start_time": "2022-08-07T15:12:55.819Z"
   },
   {
    "duration": 3,
    "start_time": "2022-08-07T15:17:24.728Z"
   },
   {
    "duration": 11,
    "start_time": "2022-08-07T15:18:43.205Z"
   },
   {
    "duration": 6,
    "start_time": "2022-08-07T15:19:10.514Z"
   },
   {
    "duration": 37,
    "start_time": "2022-08-07T16:06:35.136Z"
   },
   {
    "duration": 33,
    "start_time": "2022-08-07T16:06:42.853Z"
   },
   {
    "duration": 10,
    "start_time": "2022-08-07T16:07:37.036Z"
   },
   {
    "duration": 13,
    "start_time": "2022-08-07T16:09:06.636Z"
   },
   {
    "duration": 14,
    "start_time": "2022-08-07T16:09:30.339Z"
   },
   {
    "duration": 109,
    "start_time": "2022-08-07T16:30:25.066Z"
   },
   {
    "duration": 115,
    "start_time": "2022-08-07T16:30:47.992Z"
   },
   {
    "duration": 3,
    "start_time": "2022-08-07T16:30:58.482Z"
   },
   {
    "duration": 4,
    "start_time": "2022-08-07T16:31:19.510Z"
   },
   {
    "duration": 3,
    "start_time": "2022-08-07T16:32:17.131Z"
   },
   {
    "duration": 15,
    "start_time": "2022-08-07T16:32:18.882Z"
   },
   {
    "duration": 4,
    "start_time": "2022-08-07T16:33:01.020Z"
   },
   {
    "duration": 18,
    "start_time": "2022-08-07T16:33:02.413Z"
   },
   {
    "duration": 3,
    "start_time": "2022-08-07T16:33:38.305Z"
   },
   {
    "duration": 12,
    "start_time": "2022-08-07T16:33:39.830Z"
   },
   {
    "duration": 3,
    "start_time": "2022-08-07T16:38:37.198Z"
   },
   {
    "duration": 8,
    "start_time": "2022-08-07T16:38:39.141Z"
   },
   {
    "duration": 3,
    "start_time": "2022-08-07T16:39:45.305Z"
   },
   {
    "duration": 6,
    "start_time": "2022-08-07T16:39:46.259Z"
   },
   {
    "duration": 3,
    "start_time": "2022-08-07T16:42:36.774Z"
   },
   {
    "duration": 12,
    "start_time": "2022-08-07T16:42:38.069Z"
   },
   {
    "duration": 3,
    "start_time": "2022-08-07T16:45:43.634Z"
   },
   {
    "duration": 14,
    "start_time": "2022-08-07T16:45:45.062Z"
   },
   {
    "duration": 436,
    "start_time": "2022-08-07T21:34:39.719Z"
   },
   {
    "duration": 373,
    "start_time": "2022-08-07T21:34:41.485Z"
   },
   {
    "duration": 6,
    "start_time": "2022-08-07T21:34:43.347Z"
   },
   {
    "duration": 5,
    "start_time": "2022-08-07T21:34:45.714Z"
   },
   {
    "duration": 3,
    "start_time": "2022-08-07T21:34:51.947Z"
   },
   {
    "duration": 13,
    "start_time": "2022-08-07T21:34:54.151Z"
   },
   {
    "duration": 3,
    "start_time": "2022-08-07T21:34:56.834Z"
   },
   {
    "duration": 25,
    "start_time": "2022-08-07T21:34:59.424Z"
   },
   {
    "duration": 18,
    "start_time": "2022-08-07T21:35:03.342Z"
   },
   {
    "duration": 25,
    "start_time": "2022-08-07T21:35:04.817Z"
   },
   {
    "duration": 73,
    "start_time": "2022-08-07T21:35:06.668Z"
   },
   {
    "duration": 73,
    "start_time": "2022-08-07T21:35:08.206Z"
   },
   {
    "duration": 56,
    "start_time": "2022-08-07T21:35:11.463Z"
   },
   {
    "duration": 7,
    "start_time": "2022-08-07T21:35:12.679Z"
   },
   {
    "duration": 3,
    "start_time": "2022-08-07T21:35:16.039Z"
   },
   {
    "duration": 10,
    "start_time": "2022-08-07T21:35:17.026Z"
   },
   {
    "duration": 7,
    "start_time": "2022-08-07T21:35:18.222Z"
   },
   {
    "duration": 15,
    "start_time": "2022-08-07T21:35:26.023Z"
   },
   {
    "duration": 14,
    "start_time": "2022-08-07T21:35:27.223Z"
   },
   {
    "duration": 4,
    "start_time": "2022-08-07T21:35:31.726Z"
   },
   {
    "duration": 15,
    "start_time": "2022-08-07T21:35:33.768Z"
   },
   {
    "duration": 14,
    "start_time": "2022-08-07T21:37:36.625Z"
   },
   {
    "duration": 14,
    "start_time": "2022-08-07T21:37:37.759Z"
   },
   {
    "duration": 14,
    "start_time": "2022-08-07T21:37:38.743Z"
   },
   {
    "duration": 14,
    "start_time": "2022-08-07T21:37:39.898Z"
   },
   {
    "duration": 14,
    "start_time": "2022-08-07T21:37:40.924Z"
   },
   {
    "duration": 4,
    "start_time": "2022-08-07T21:38:58.898Z"
   },
   {
    "duration": 28,
    "start_time": "2022-08-07T21:39:00.054Z"
   },
   {
    "duration": 27,
    "start_time": "2022-08-07T21:39:01.156Z"
   },
   {
    "duration": 24,
    "start_time": "2022-08-07T21:39:02.411Z"
   },
   {
    "duration": 23,
    "start_time": "2022-08-07T21:39:03.436Z"
   },
   {
    "duration": 28,
    "start_time": "2022-08-07T21:39:04.329Z"
   },
   {
    "duration": 16,
    "start_time": "2022-08-07T21:39:05.173Z"
   },
   {
    "duration": 3,
    "start_time": "2022-08-07T21:39:23.813Z"
   },
   {
    "duration": 17,
    "start_time": "2022-08-07T21:39:25.592Z"
   },
   {
    "duration": 16,
    "start_time": "2022-08-07T21:39:26.637Z"
   },
   {
    "duration": 14,
    "start_time": "2022-08-07T21:39:27.868Z"
   },
   {
    "duration": 16,
    "start_time": "2022-08-07T21:39:28.998Z"
   },
   {
    "duration": 20,
    "start_time": "2022-08-07T21:39:30.022Z"
   },
   {
    "duration": 15,
    "start_time": "2022-08-07T21:39:31.092Z"
   },
   {
    "duration": 84,
    "start_time": "2022-08-07T21:49:00.269Z"
   },
   {
    "duration": 70,
    "start_time": "2022-08-07T21:49:26.798Z"
   },
   {
    "duration": 12,
    "start_time": "2022-08-07T21:52:42.028Z"
   },
   {
    "duration": 10,
    "start_time": "2022-08-07T21:52:42.653Z"
   },
   {
    "duration": 78,
    "start_time": "2022-08-07T22:03:51.443Z"
   },
   {
    "duration": 90,
    "start_time": "2022-08-07T22:04:01.381Z"
   },
   {
    "duration": 3,
    "start_time": "2022-08-07T22:04:17.610Z"
   },
   {
    "duration": 267,
    "start_time": "2022-08-07T22:04:18.862Z"
   },
   {
    "duration": 6,
    "start_time": "2022-08-07T22:04:20.694Z"
   },
   {
    "duration": 5,
    "start_time": "2022-08-07T22:04:21.713Z"
   },
   {
    "duration": 3,
    "start_time": "2022-08-07T22:04:24.481Z"
   },
   {
    "duration": 8,
    "start_time": "2022-08-07T22:04:25.559Z"
   },
   {
    "duration": 5,
    "start_time": "2022-08-07T22:04:27.329Z"
   },
   {
    "duration": 26,
    "start_time": "2022-08-07T22:04:31.654Z"
   },
   {
    "duration": 17,
    "start_time": "2022-08-07T22:04:33.406Z"
   },
   {
    "duration": 24,
    "start_time": "2022-08-07T22:04:34.690Z"
   },
   {
    "duration": 58,
    "start_time": "2022-08-07T22:04:36.172Z"
   },
   {
    "duration": 77,
    "start_time": "2022-08-07T22:04:37.111Z"
   },
   {
    "duration": 56,
    "start_time": "2022-08-07T22:04:38.467Z"
   },
   {
    "duration": 7,
    "start_time": "2022-08-07T22:04:42.973Z"
   },
   {
    "duration": 3,
    "start_time": "2022-08-07T22:04:44.444Z"
   },
   {
    "duration": 9,
    "start_time": "2022-08-07T22:04:45.917Z"
   },
   {
    "duration": 6,
    "start_time": "2022-08-07T22:04:48.757Z"
   },
   {
    "duration": 11,
    "start_time": "2022-08-07T22:04:53.142Z"
   },
   {
    "duration": 11,
    "start_time": "2022-08-07T22:04:55.671Z"
   },
   {
    "duration": 4,
    "start_time": "2022-08-07T22:04:57.675Z"
   },
   {
    "duration": 16,
    "start_time": "2022-08-07T22:05:02.515Z"
   },
   {
    "duration": 15,
    "start_time": "2022-08-07T22:05:03.334Z"
   },
   {
    "duration": 15,
    "start_time": "2022-08-07T22:05:04.113Z"
   },
   {
    "duration": 16,
    "start_time": "2022-08-07T22:05:04.853Z"
   },
   {
    "duration": 17,
    "start_time": "2022-08-07T22:05:05.614Z"
   },
   {
    "duration": 17,
    "start_time": "2022-08-07T22:05:06.562Z"
   },
   {
    "duration": 72,
    "start_time": "2022-08-07T22:05:09.990Z"
   },
   {
    "duration": 17,
    "start_time": "2022-08-07T22:05:13.690Z"
   },
   {
    "duration": 13,
    "start_time": "2022-08-07T22:05:16.733Z"
   },
   {
    "duration": 101,
    "start_time": "2022-08-07T22:05:36.047Z"
   },
   {
    "duration": 86,
    "start_time": "2022-08-07T22:05:50.939Z"
   },
   {
    "duration": 103,
    "start_time": "2022-08-07T22:06:33.478Z"
   },
   {
    "duration": 5,
    "start_time": "2022-08-07T22:09:23.997Z"
   },
   {
    "duration": 63,
    "start_time": "2022-08-07T22:10:59.942Z"
   },
   {
    "duration": 6,
    "start_time": "2022-08-07T22:11:13.163Z"
   },
   {
    "duration": 384,
    "start_time": "2022-08-07T22:11:14.978Z"
   },
   {
    "duration": 31,
    "start_time": "2022-08-07T22:12:15.093Z"
   },
   {
    "duration": 5,
    "start_time": "2022-08-07T22:12:42.890Z"
   },
   {
    "duration": 18,
    "start_time": "2022-08-07T22:12:43.937Z"
   },
   {
    "duration": 372,
    "start_time": "2022-08-07T22:12:55.635Z"
   },
   {
    "duration": 8,
    "start_time": "2022-08-07T22:13:21.637Z"
   },
   {
    "duration": 18,
    "start_time": "2022-08-07T22:14:10.829Z"
   },
   {
    "duration": 32,
    "start_time": "2022-08-07T22:14:20.493Z"
   },
   {
    "duration": 22,
    "start_time": "2022-08-07T22:16:02.851Z"
   },
   {
    "duration": 5,
    "start_time": "2022-08-07T22:18:39.635Z"
   },
   {
    "duration": 37,
    "start_time": "2022-08-07T22:18:40.501Z"
   },
   {
    "duration": 5,
    "start_time": "2022-08-07T22:18:58.354Z"
   },
   {
    "duration": 31,
    "start_time": "2022-08-07T22:18:59.225Z"
   },
   {
    "duration": 4,
    "start_time": "2022-08-07T22:19:30.738Z"
   },
   {
    "duration": 40,
    "start_time": "2022-08-07T22:19:33.298Z"
   },
   {
    "duration": 8,
    "start_time": "2022-08-07T22:20:13.819Z"
   },
   {
    "duration": 25,
    "start_time": "2022-08-07T22:20:15.851Z"
   },
   {
    "duration": 5,
    "start_time": "2022-08-07T22:21:12.821Z"
   },
   {
    "duration": 32,
    "start_time": "2022-08-07T22:21:13.683Z"
   },
   {
    "duration": 4,
    "start_time": "2022-08-07T22:21:59.472Z"
   },
   {
    "duration": 25,
    "start_time": "2022-08-07T22:22:00.283Z"
   },
   {
    "duration": 34,
    "start_time": "2022-08-07T22:22:39.701Z"
   },
   {
    "duration": 2,
    "start_time": "2022-08-07T22:22:40.439Z"
   },
   {
    "duration": 7,
    "start_time": "2022-08-07T22:23:23.064Z"
   },
   {
    "duration": 27,
    "start_time": "2022-08-07T22:23:30.355Z"
   },
   {
    "duration": 8,
    "start_time": "2022-08-07T22:23:31.920Z"
   },
   {
    "duration": 20,
    "start_time": "2022-08-07T22:23:38.738Z"
   },
   {
    "duration": 29,
    "start_time": "2022-08-07T22:29:20.423Z"
   },
   {
    "duration": 23,
    "start_time": "2022-08-07T22:29:53.337Z"
   },
   {
    "duration": 6,
    "start_time": "2022-08-07T22:30:54.627Z"
   },
   {
    "duration": 26,
    "start_time": "2022-08-07T22:32:00.127Z"
   },
   {
    "duration": 6,
    "start_time": "2022-08-07T22:32:03.726Z"
   },
   {
    "duration": 11,
    "start_time": "2022-08-07T22:33:38.301Z"
   },
   {
    "duration": 17,
    "start_time": "2022-08-07T22:33:55.888Z"
   },
   {
    "duration": 5,
    "start_time": "2022-08-07T22:33:56.980Z"
   },
   {
    "duration": 378,
    "start_time": "2022-08-08T00:30:36.465Z"
   },
   {
    "duration": 385,
    "start_time": "2022-08-08T00:30:38.624Z"
   },
   {
    "duration": 6,
    "start_time": "2022-08-08T00:30:40.704Z"
   },
   {
    "duration": 4,
    "start_time": "2022-08-08T00:30:42.414Z"
   },
   {
    "duration": 4,
    "start_time": "2022-08-08T00:30:45.722Z"
   },
   {
    "duration": 13,
    "start_time": "2022-08-08T00:30:46.821Z"
   },
   {
    "duration": 3,
    "start_time": "2022-08-08T00:30:47.670Z"
   },
   {
    "duration": 23,
    "start_time": "2022-08-08T00:30:50.187Z"
   },
   {
    "duration": 17,
    "start_time": "2022-08-08T00:30:52.142Z"
   },
   {
    "duration": 24,
    "start_time": "2022-08-08T00:30:55.896Z"
   },
   {
    "duration": 64,
    "start_time": "2022-08-08T00:30:57.678Z"
   },
   {
    "duration": 70,
    "start_time": "2022-08-08T00:30:58.733Z"
   },
   {
    "duration": 61,
    "start_time": "2022-08-08T00:31:00.260Z"
   },
   {
    "duration": 8,
    "start_time": "2022-08-08T00:31:01.548Z"
   },
   {
    "duration": 3,
    "start_time": "2022-08-08T00:31:05.200Z"
   },
   {
    "duration": 8,
    "start_time": "2022-08-08T00:31:06.691Z"
   },
   {
    "duration": 7,
    "start_time": "2022-08-08T00:31:08.035Z"
   },
   {
    "duration": 11,
    "start_time": "2022-08-08T00:31:15.486Z"
   },
   {
    "duration": 11,
    "start_time": "2022-08-08T00:31:17.292Z"
   },
   {
    "duration": 4,
    "start_time": "2022-08-08T00:31:22.121Z"
   },
   {
    "duration": 16,
    "start_time": "2022-08-08T00:31:23.769Z"
   },
   {
    "duration": 14,
    "start_time": "2022-08-08T00:31:24.585Z"
   },
   {
    "duration": 13,
    "start_time": "2022-08-08T00:31:25.345Z"
   },
   {
    "duration": 15,
    "start_time": "2022-08-08T00:31:26.081Z"
   },
   {
    "duration": 16,
    "start_time": "2022-08-08T00:31:26.911Z"
   },
   {
    "duration": 15,
    "start_time": "2022-08-08T00:31:29.191Z"
   },
   {
    "duration": 66,
    "start_time": "2022-08-08T00:31:30.357Z"
   },
   {
    "duration": 10,
    "start_time": "2022-08-08T00:31:37.254Z"
   },
   {
    "duration": 9,
    "start_time": "2022-08-08T00:31:38.125Z"
   },
   {
    "duration": 4,
    "start_time": "2022-08-08T00:31:40.439Z"
   },
   {
    "duration": 23,
    "start_time": "2022-08-08T00:31:45.922Z"
   },
   {
    "duration": 5,
    "start_time": "2022-08-08T00:32:00.090Z"
   },
   {
    "duration": 75,
    "start_time": "2022-08-08T00:32:01.542Z"
   },
   {
    "duration": 5,
    "start_time": "2022-08-08T00:32:08.891Z"
   },
   {
    "duration": 24,
    "start_time": "2022-08-08T00:32:11.027Z"
   },
   {
    "duration": 20,
    "start_time": "2022-08-08T00:32:14.461Z"
   },
   {
    "duration": 25,
    "start_time": "2022-08-08T00:32:15.064Z"
   },
   {
    "duration": 18,
    "start_time": "2022-08-08T00:32:15.650Z"
   },
   {
    "duration": 14,
    "start_time": "2022-08-08T00:32:44.415Z"
   },
   {
    "duration": 9,
    "start_time": "2022-08-08T00:34:02.782Z"
   },
   {
    "duration": 3,
    "start_time": "2022-08-08T00:34:04.888Z"
   },
   {
    "duration": 6,
    "start_time": "2022-08-08T00:34:31.170Z"
   },
   {
    "duration": 3,
    "start_time": "2022-08-08T00:34:32.428Z"
   },
   {
    "duration": 4,
    "start_time": "2022-08-08T00:35:06.541Z"
   },
   {
    "duration": 20,
    "start_time": "2022-08-08T00:35:10.464Z"
   },
   {
    "duration": 11,
    "start_time": "2022-08-08T00:35:12.957Z"
   },
   {
    "duration": 19,
    "start_time": "2022-08-08T00:35:15.891Z"
   },
   {
    "duration": 13,
    "start_time": "2022-08-08T00:35:24.667Z"
   },
   {
    "duration": 10,
    "start_time": "2022-08-08T00:35:32.347Z"
   },
   {
    "duration": 3,
    "start_time": "2022-08-08T00:35:33.402Z"
   },
   {
    "duration": 7,
    "start_time": "2022-08-08T00:35:34.908Z"
   },
   {
    "duration": 4,
    "start_time": "2022-08-08T00:35:37.266Z"
   },
   {
    "duration": 381,
    "start_time": "2022-08-08T23:46:23.246Z"
   },
   {
    "duration": 350,
    "start_time": "2022-08-08T23:46:23.629Z"
   },
   {
    "duration": 6,
    "start_time": "2022-08-08T23:46:23.980Z"
   },
   {
    "duration": 21,
    "start_time": "2022-08-08T23:46:23.988Z"
   },
   {
    "duration": 10,
    "start_time": "2022-08-08T23:46:24.011Z"
   },
   {
    "duration": 24,
    "start_time": "2022-08-08T23:46:24.022Z"
   },
   {
    "duration": 9,
    "start_time": "2022-08-08T23:46:24.047Z"
   },
   {
    "duration": 36,
    "start_time": "2022-08-08T23:46:24.058Z"
   },
   {
    "duration": 18,
    "start_time": "2022-08-08T23:46:24.095Z"
   },
   {
    "duration": 24,
    "start_time": "2022-08-08T23:46:24.115Z"
   },
   {
    "duration": 69,
    "start_time": "2022-08-08T23:46:24.141Z"
   },
   {
    "duration": 72,
    "start_time": "2022-08-08T23:46:24.211Z"
   },
   {
    "duration": 65,
    "start_time": "2022-08-08T23:46:24.285Z"
   },
   {
    "duration": 7,
    "start_time": "2022-08-08T23:46:24.351Z"
   },
   {
    "duration": 10,
    "start_time": "2022-08-08T23:46:24.359Z"
   },
   {
    "duration": 19,
    "start_time": "2022-08-08T23:46:24.371Z"
   },
   {
    "duration": 13,
    "start_time": "2022-08-08T23:46:24.391Z"
   },
   {
    "duration": 19,
    "start_time": "2022-08-08T23:46:24.405Z"
   },
   {
    "duration": 13,
    "start_time": "2022-08-08T23:46:24.426Z"
   },
   {
    "duration": 3,
    "start_time": "2022-08-08T23:46:24.440Z"
   },
   {
    "duration": 26,
    "start_time": "2022-08-08T23:46:24.445Z"
   },
   {
    "duration": 14,
    "start_time": "2022-08-08T23:46:24.473Z"
   },
   {
    "duration": 27,
    "start_time": "2022-08-08T23:46:24.488Z"
   },
   {
    "duration": 14,
    "start_time": "2022-08-08T23:46:24.517Z"
   },
   {
    "duration": 27,
    "start_time": "2022-08-08T23:46:24.533Z"
   },
   {
    "duration": 16,
    "start_time": "2022-08-08T23:46:24.561Z"
   },
   {
    "duration": 86,
    "start_time": "2022-08-08T23:46:24.578Z"
   },
   {
    "duration": 11,
    "start_time": "2022-08-08T23:46:24.667Z"
   },
   {
    "duration": 15,
    "start_time": "2022-08-08T23:46:24.680Z"
   },
   {
    "duration": 15,
    "start_time": "2022-08-08T23:46:24.696Z"
   },
   {
    "duration": 31,
    "start_time": "2022-08-08T23:46:24.713Z"
   },
   {
    "duration": 13,
    "start_time": "2022-08-08T23:46:24.746Z"
   },
   {
    "duration": 19,
    "start_time": "2022-08-08T23:46:24.760Z"
   },
   {
    "duration": 37,
    "start_time": "2022-08-08T23:46:24.780Z"
   },
   {
    "duration": 10,
    "start_time": "2022-08-08T23:46:24.819Z"
   },
   {
    "duration": 14,
    "start_time": "2022-08-08T23:46:24.830Z"
   },
   {
    "duration": 16,
    "start_time": "2022-08-08T23:46:24.846Z"
   },
   {
    "duration": 14,
    "start_time": "2022-08-08T23:46:24.864Z"
   },
   {
    "duration": 93,
    "start_time": "2022-08-08T23:57:04.821Z"
   },
   {
    "duration": 2,
    "start_time": "2022-08-09T00:13:57.636Z"
   },
   {
    "duration": 313,
    "start_time": "2022-08-09T00:13:57.640Z"
   },
   {
    "duration": 7,
    "start_time": "2022-08-09T00:13:57.954Z"
   },
   {
    "duration": 5,
    "start_time": "2022-08-09T00:13:57.963Z"
   },
   {
    "duration": 6,
    "start_time": "2022-08-09T00:13:57.970Z"
   },
   {
    "duration": 13,
    "start_time": "2022-08-09T00:13:57.978Z"
   },
   {
    "duration": 4,
    "start_time": "2022-08-09T00:13:58.009Z"
   },
   {
    "duration": 27,
    "start_time": "2022-08-09T00:13:58.015Z"
   },
   {
    "duration": 17,
    "start_time": "2022-08-09T00:13:58.045Z"
   },
   {
    "duration": 48,
    "start_time": "2022-08-09T00:13:58.063Z"
   },
   {
    "duration": 56,
    "start_time": "2022-08-09T00:13:58.113Z"
   },
   {
    "duration": 91,
    "start_time": "2022-08-09T00:13:58.171Z"
   },
   {
    "duration": 66,
    "start_time": "2022-08-09T00:13:58.264Z"
   },
   {
    "duration": 7,
    "start_time": "2022-08-09T00:13:58.332Z"
   },
   {
    "duration": 12,
    "start_time": "2022-08-09T00:13:58.340Z"
   },
   {
    "duration": 12,
    "start_time": "2022-08-09T00:13:58.354Z"
   },
   {
    "duration": 7,
    "start_time": "2022-08-09T00:13:58.367Z"
   },
   {
    "duration": 12,
    "start_time": "2022-08-09T00:13:58.376Z"
   },
   {
    "duration": 11,
    "start_time": "2022-08-09T00:13:58.409Z"
   },
   {
    "duration": 3,
    "start_time": "2022-08-09T00:13:58.422Z"
   },
   {
    "duration": 18,
    "start_time": "2022-08-09T00:13:58.427Z"
   },
   {
    "duration": 13,
    "start_time": "2022-08-09T00:13:58.447Z"
   },
   {
    "duration": 14,
    "start_time": "2022-08-09T00:13:58.462Z"
   },
   {
    "duration": 42,
    "start_time": "2022-08-09T00:13:58.478Z"
   },
   {
    "duration": 15,
    "start_time": "2022-08-09T00:13:58.521Z"
   },
   {
    "duration": 13,
    "start_time": "2022-08-09T00:13:58.538Z"
   },
   {
    "duration": 90,
    "start_time": "2022-08-09T00:13:58.552Z"
   },
   {
    "duration": 14,
    "start_time": "2022-08-09T00:13:58.643Z"
   },
   {
    "duration": 13,
    "start_time": "2022-08-09T00:13:58.658Z"
   },
   {
    "duration": 4,
    "start_time": "2022-08-09T00:13:58.673Z"
   },
   {
    "duration": 38,
    "start_time": "2022-08-09T00:13:58.678Z"
   },
   {
    "duration": 11,
    "start_time": "2022-08-09T00:13:58.718Z"
   },
   {
    "duration": 24,
    "start_time": "2022-08-09T00:13:58.730Z"
   },
   {
    "duration": 11,
    "start_time": "2022-08-09T00:13:58.755Z"
   },
   {
    "duration": 9,
    "start_time": "2022-08-09T00:13:58.768Z"
   },
   {
    "duration": 4,
    "start_time": "2022-08-09T00:13:58.779Z"
   },
   {
    "duration": 9,
    "start_time": "2022-08-09T00:13:58.808Z"
   },
   {
    "duration": 4,
    "start_time": "2022-08-09T00:13:58.819Z"
   },
   {
    "duration": 325,
    "start_time": "2022-08-09T00:33:39.298Z"
   },
   {
    "duration": 331,
    "start_time": "2022-08-09T00:33:40.951Z"
   },
   {
    "duration": 7,
    "start_time": "2022-08-09T00:33:43.581Z"
   },
   {
    "duration": 26,
    "start_time": "2022-08-09T00:33:45.690Z"
   },
   {
    "duration": 4,
    "start_time": "2022-08-09T00:34:45.051Z"
   },
   {
    "duration": 3,
    "start_time": "2022-08-09T00:35:10.307Z"
   },
   {
    "duration": 12,
    "start_time": "2022-08-09T00:35:16.924Z"
   },
   {
    "duration": 4,
    "start_time": "2022-08-09T00:35:18.598Z"
   },
   {
    "duration": 22,
    "start_time": "2022-08-09T00:35:25.843Z"
   },
   {
    "duration": 17,
    "start_time": "2022-08-09T00:35:42.045Z"
   },
   {
    "duration": 22,
    "start_time": "2022-08-09T00:35:54.819Z"
   },
   {
    "duration": 54,
    "start_time": "2022-08-09T00:36:00.541Z"
   },
   {
    "duration": 63,
    "start_time": "2022-08-09T00:36:08.543Z"
   },
   {
    "duration": 59,
    "start_time": "2022-08-09T00:36:12.518Z"
   },
   {
    "duration": 58,
    "start_time": "2022-08-09T00:36:46.371Z"
   },
   {
    "duration": 51,
    "start_time": "2022-08-09T00:36:51.612Z"
   },
   {
    "duration": 62,
    "start_time": "2022-08-09T00:36:53.260Z"
   },
   {
    "duration": 51,
    "start_time": "2022-08-09T00:36:57.194Z"
   },
   {
    "duration": 8,
    "start_time": "2022-08-09T00:37:08.237Z"
   },
   {
    "duration": 36,
    "start_time": "2022-08-09T00:37:42.929Z"
   },
   {
    "duration": 3,
    "start_time": "2022-08-09T00:37:57.349Z"
   },
   {
    "duration": 8,
    "start_time": "2022-08-09T00:38:05.719Z"
   },
   {
    "duration": 35,
    "start_time": "2022-08-09T00:38:24.618Z"
   },
   {
    "duration": 10,
    "start_time": "2022-08-09T00:38:39.535Z"
   },
   {
    "duration": 11,
    "start_time": "2022-08-09T00:38:58.121Z"
   },
   {
    "duration": 11,
    "start_time": "2022-08-09T00:39:02.810Z"
   },
   {
    "duration": 3,
    "start_time": "2022-08-09T00:39:17.412Z"
   },
   {
    "duration": 18,
    "start_time": "2022-08-09T00:39:28.884Z"
   },
   {
    "duration": 13,
    "start_time": "2022-08-09T00:39:29.291Z"
   },
   {
    "duration": 16,
    "start_time": "2022-08-09T00:39:29.662Z"
   },
   {
    "duration": 13,
    "start_time": "2022-08-09T00:39:30.049Z"
   },
   {
    "duration": 15,
    "start_time": "2022-08-09T00:39:30.500Z"
   },
   {
    "duration": 18,
    "start_time": "2022-08-09T00:39:31.006Z"
   },
   {
    "duration": 60,
    "start_time": "2022-08-09T00:40:17.011Z"
   },
   {
    "duration": 10,
    "start_time": "2022-08-09T00:40:23.078Z"
   },
   {
    "duration": 10,
    "start_time": "2022-08-09T00:40:23.557Z"
   },
   {
    "duration": 3,
    "start_time": "2022-08-09T00:40:29.603Z"
   },
   {
    "duration": 17,
    "start_time": "2022-08-09T00:40:44.631Z"
   },
   {
    "duration": 11,
    "start_time": "2022-08-09T00:40:45.991Z"
   },
   {
    "duration": 17,
    "start_time": "2022-08-09T00:40:46.657Z"
   },
   {
    "duration": 17,
    "start_time": "2022-08-09T00:40:48.860Z"
   },
   {
    "duration": 9,
    "start_time": "2022-08-09T00:40:59.448Z"
   },
   {
    "duration": 3,
    "start_time": "2022-08-09T00:41:15.733Z"
   },
   {
    "duration": 6,
    "start_time": "2022-08-09T00:41:19.322Z"
   },
   {
    "duration": 4,
    "start_time": "2022-08-09T00:41:25.211Z"
   },
   {
    "duration": 5,
    "start_time": "2022-08-09T00:41:32.972Z"
   },
   {
    "duration": 62,
    "start_time": "2022-08-09T00:45:59.527Z"
   },
   {
    "duration": 72,
    "start_time": "2022-08-09T00:47:01.900Z"
   },
   {
    "duration": 63,
    "start_time": "2022-08-09T00:47:06.048Z"
   },
   {
    "duration": 63,
    "start_time": "2022-08-09T00:47:07.144Z"
   },
   {
    "duration": 387,
    "start_time": "2022-08-09T01:08:10.998Z"
   },
   {
    "duration": 329,
    "start_time": "2022-08-09T01:08:11.387Z"
   },
   {
    "duration": 6,
    "start_time": "2022-08-09T01:08:11.718Z"
   },
   {
    "duration": 35,
    "start_time": "2022-08-09T01:08:11.726Z"
   },
   {
    "duration": 5,
    "start_time": "2022-08-09T01:08:11.763Z"
   },
   {
    "duration": 14,
    "start_time": "2022-08-09T01:08:11.769Z"
   },
   {
    "duration": 18,
    "start_time": "2022-08-09T01:08:11.785Z"
   },
   {
    "duration": 24,
    "start_time": "2022-08-09T01:08:11.805Z"
   },
   {
    "duration": 15,
    "start_time": "2022-08-09T01:08:11.831Z"
   },
   {
    "duration": 23,
    "start_time": "2022-08-09T01:08:11.848Z"
   },
   {
    "duration": 68,
    "start_time": "2022-08-09T01:08:11.872Z"
   },
   {
    "duration": 78,
    "start_time": "2022-08-09T01:08:11.941Z"
   },
   {
    "duration": 50,
    "start_time": "2022-08-09T01:08:12.020Z"
   },
   {
    "duration": 41,
    "start_time": "2022-08-09T01:08:12.071Z"
   },
   {
    "duration": 2,
    "start_time": "2022-08-09T01:08:12.114Z"
   },
   {
    "duration": 12,
    "start_time": "2022-08-09T01:08:12.117Z"
   },
   {
    "duration": 30,
    "start_time": "2022-08-09T01:08:12.130Z"
   },
   {
    "duration": 10,
    "start_time": "2022-08-09T01:08:12.162Z"
   },
   {
    "duration": 28,
    "start_time": "2022-08-09T01:08:12.174Z"
   },
   {
    "duration": 3,
    "start_time": "2022-08-09T01:08:12.204Z"
   },
   {
    "duration": 21,
    "start_time": "2022-08-09T01:08:12.208Z"
   },
   {
    "duration": 11,
    "start_time": "2022-08-09T01:08:12.231Z"
   },
   {
    "duration": 12,
    "start_time": "2022-08-09T01:08:12.243Z"
   },
   {
    "duration": 15,
    "start_time": "2022-08-09T01:08:12.257Z"
   },
   {
    "duration": 34,
    "start_time": "2022-08-09T01:08:12.274Z"
   },
   {
    "duration": 11,
    "start_time": "2022-08-09T01:08:12.310Z"
   },
   {
    "duration": 57,
    "start_time": "2022-08-09T01:08:12.322Z"
   },
   {
    "duration": 23,
    "start_time": "2022-08-09T01:08:12.382Z"
   },
   {
    "duration": 10,
    "start_time": "2022-08-09T01:08:12.406Z"
   },
   {
    "duration": 4,
    "start_time": "2022-08-09T01:08:12.418Z"
   },
   {
    "duration": 24,
    "start_time": "2022-08-09T01:08:12.423Z"
   },
   {
    "duration": 10,
    "start_time": "2022-08-09T01:08:12.449Z"
   },
   {
    "duration": 16,
    "start_time": "2022-08-09T01:08:12.460Z"
   },
   {
    "duration": 31,
    "start_time": "2022-08-09T01:08:12.477Z"
   },
   {
    "duration": 8,
    "start_time": "2022-08-09T01:08:12.509Z"
   },
   {
    "duration": 5,
    "start_time": "2022-08-09T01:08:12.518Z"
   },
   {
    "duration": 9,
    "start_time": "2022-08-09T01:08:12.524Z"
   },
   {
    "duration": 7,
    "start_time": "2022-08-09T01:08:12.534Z"
   },
   {
    "duration": 33,
    "start_time": "2022-08-09T01:08:23.466Z"
   }
  ],
  "colab": {
   "collapsed_sections": [
    "E0vqbgi9ay0H",
    "VUC88oWjTJw2",
    "atZAxtq4_Zcu"
   ],
   "name": "EmptyFinalProject.ipynb\"",
   "provenance": []
  },
  "kernelspec": {
   "display_name": "Python 3 (ipykernel)",
   "language": "python",
   "name": "python3"
  },
  "language_info": {
   "codemirror_mode": {
    "name": "ipython",
    "version": 3
   },
   "file_extension": ".py",
   "mimetype": "text/x-python",
   "name": "python",
   "nbconvert_exporter": "python",
   "pygments_lexer": "ipython3",
   "version": "3.9.5"
  },
  "toc": {
   "base_numbering": 1,
   "nav_menu": {},
   "number_sections": true,
   "sideBar": true,
   "skip_h1_title": true,
   "title_cell": "Table of Contents",
   "title_sidebar": "Contents",
   "toc_cell": false,
   "toc_position": {},
   "toc_section_display": true,
   "toc_window_display": false
  }
 },
 "nbformat": 4,
 "nbformat_minor": 4
}
